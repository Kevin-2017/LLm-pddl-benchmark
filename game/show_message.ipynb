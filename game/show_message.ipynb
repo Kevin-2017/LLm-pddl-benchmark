{
 "cells": [
  {
   "cell_type": "code",
   "execution_count": 1,
   "metadata": {},
   "outputs": [],
   "source": [
    "import json\n",
    "result = json.load(open(\"cf_0_gpt-4o_gpt-4o-mini.json\", \"r\"))\n",
    "s = \"\"\n",
    "for i in result[\"first_player_messages\"]:\n",
    "\ts += \"*\"*20 + \"\\n\"\n",
    "\ts += i[\"role\"] + \"\\n\"\n",
    "\ts += i[\"content\"] + \"\\n\"\n",
    "with open(\"cf_player1.txt\", \"w\") as f:\n",
    "\tf.write(s)\n",
    "f.close()\n",
    "\n",
    "s = \"\"\n",
    "for i in result[\"second_player_messages\"]:\n",
    "\ts += \"*\"*20 + \"\\n\"\n",
    "\ts += i[\"role\"] + \"\\n\"\n",
    "\ts += i[\"content\"] + \"\\n\"\n",
    "with open(\"cf_player2.txt\", \"w\") as f:\n",
    "\tf.write(s)\n",
    "f.close()"
   ]
  },
  {
   "cell_type": "code",
   "execution_count": 3,
   "metadata": {},
   "outputs": [],
   "source": [
    "import json\n",
    "result = json.load(open(\"diplomacy_chat_log.json\", \"r\"))\n",
    "s = \"\"\n",
    "for i in result[\"index_messages\"][\"0\"]:\n",
    "\ts += \"*\"*20 + \"\\n\"\n",
    "\ts += i[\"role\"] + \"\\n\"\n",
    "\ts += i[\"content\"] + \"\\n\"\n",
    "with open(\"diplomacy_chat_log_player1.txt\", \"w\") as f:\n",
    "\tf.write(s)\n",
    "f.close()"
   ]
  }
 ],
 "metadata": {
  "kernelspec": {
   "display_name": "base",
   "language": "python",
   "name": "python3"
  },
  "language_info": {
   "codemirror_mode": {
    "name": "ipython",
    "version": 3
   },
   "file_extension": ".py",
   "mimetype": "text/x-python",
   "name": "python",
   "nbconvert_exporter": "python",
   "pygments_lexer": "ipython3",
   "version": "3.11.5"
  }
 },
 "nbformat": 4,
 "nbformat_minor": 2
}
