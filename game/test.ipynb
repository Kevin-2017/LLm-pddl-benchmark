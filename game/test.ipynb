{
 "cells": [
  {
   "cell_type": "code",
   "execution_count": 13,
   "metadata": {},
   "outputs": [],
   "source": [
    "import sys\n",
    "from typing import Union, List\n",
    "import os\n",
    "from abc import ABC, abstractmethod\n",
    "parent_dir = os.path.abspath(os.path.join(os.getcwd(), \"../..\"))\n",
    "sys.path.append(parent_dir)\n",
    "from llm_plan_bench.models.utils.roles import (SYSTEM_PROMPT_DEFAULT_ROLE)\n",
    "import llm_plan_bench as lpb\n",
    "import json\n",
    "from typing import List, Dict, Union, Optional\n",
    "\n",
    "\n",
    "from llm_plan_bench.models.utils.llm_utils import validate_engine_or_get_default\n",
    "from llm_plan_bench.models.engine import EngineLM, get_engine"
   ]
  },
  {
   "cell_type": "code",
   "execution_count": 5,
   "metadata": {},
   "outputs": [],
   "source": [
    "model = lpb.BlackboxLLM(\"gpt-4o-mini\")\n"
   ]
  },
  {
   "cell_type": "code",
   "execution_count": 12,
   "metadata": {},
   "outputs": [
    {
     "name": "stderr",
     "output_type": "stream",
     "text": [
      "ic| self.model_string: 'gpt-4o-mini'\n"
     ]
    },
    {
     "name": "stdout",
     "output_type": "stream",
     "text": [
      "system prompt You are a helpful, creative, and smart assistant.\n"
     ]
    },
    {
     "data": {
      "text/plain": [
       "'I said \"Good!\" How can I assist you today, John?'"
      ]
     },
     "execution_count": 12,
     "metadata": {},
     "output_type": "execute_result"
    }
   ],
   "source": [
    "model([\n",
    "    {\"role\": \"user\",\"content\":\"hi my name is john\"},\n",
    "    {\"role\": \"assistant\", \"content\": \"Good!\"},\n",
    "    {\"role\": \"user\",\"content\":\"What did you say?\"},\n",
    "])"
   ]
  }
 ],
 "metadata": {
  "kernelspec": {
   "display_name": "base",
   "language": "python",
   "name": "python3"
  },
  "language_info": {
   "codemirror_mode": {
    "name": "ipython",
    "version": 3
   },
   "file_extension": ".py",
   "mimetype": "text/x-python",
   "name": "python",
   "nbconvert_exporter": "python",
   "pygments_lexer": "ipython3",
   "version": "3.11.5"
  }
 },
 "nbformat": 4,
 "nbformat_minor": 2
}
