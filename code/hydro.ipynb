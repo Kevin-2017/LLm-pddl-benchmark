{
 "cells": [
  {
   "cell_type": "code",
   "execution_count": 14,
   "metadata": {},
   "outputs": [],
   "source": [
    "import json\n",
    "import os\n",
    "import zipfile"
   ]
  },
  {
   "cell_type": "code",
   "execution_count": 18,
   "metadata": {},
   "outputs": [
    {
     "name": "stdout",
     "output_type": "stream",
     "text": [
      "4\n",
      "['#100_en.json', '#101_en.json', '#102_en.json']\n"
     ]
    }
   ],
   "source": [
    "base_path = \"loj/\"\n",
    "all_json_files = [f for f in os.listdir(base_path) if f.endswith('_en.json')]\n",
    "all_json_files = sorted(all_json_files)\n",
    "print(len(all_json_files))\n",
    "print(all_json_files[:3])"
   ]
  },
  {
   "cell_type": "code",
   "execution_count": 20,
   "metadata": {},
   "outputs": [],
   "source": [
    "# unzip all testdata files\n",
    "for name in all_json_files[:3]:\n",
    "    testfile = \"loj/testdata/TestData_\" + name.split(\"_\")[0] + \".zip\"\n",
    "    extract_dir = os.path.splitext(testfile)[0]\n",
    "    if os.path.exists(extract_dir):\n",
    "        continue\n",
    "    os.makedirs(extract_dir, exist_ok=True)\n",
    "    \n",
    "    with zipfile.ZipFile(testfile, 'r') as zip_ref:\n",
    "        zip_ref.extractall(extract_dir)\n",
    "        print(f\"Extracted {testfile} to {extract_dir}\")"
   ]
  },
  {
   "cell_type": "code",
   "execution_count": 21,
   "metadata": {},
   "outputs": [
    {
     "name": "stdout",
     "output_type": "stream",
     "text": [
      "Generated config.yaml for loj/testdata/TestData_#100\n",
      "Generated config.yaml for loj/testdata/TestData_#101\n",
      "Generated config.yaml for loj/testdata/TestData_#102\n"
     ]
    }
   ],
   "source": [
    "# generate config.yaml for each testdata folder\n",
    "# config.yaml:\n",
    "# time: 1s\n",
    "# memory: 125mb\n",
    "# the time and memory can be found in the json file\n",
    "for name in all_json_files[:3]:\n",
    "    test_dir = \"loj/testdata/TestData_\" + name.split(\"_\")[0]\n",
    "    with open(base_path + name, 'r') as f:\n",
    "        data = json.load(f)\n",
    "        time_limit = str(int(data['labels'][1].split(\" \")[0])/1000) + \"s\"\n",
    "        memory_limit = str(int(data['labels'][2].split(\" \")[0]))\n",
    "        if data['labels'][2].split(\" \")[1] == \"MiB\":\n",
    "            memory_limit += \"mb\"\n",
    "        elif data['labels'][2].split(\" \")[1] == \"KiB\":\n",
    "            memory_limit += \"kb\"\n",
    "        elif data['labels'][2].split(\" \")[1] == \"GiB\":\n",
    "            memory_limit += \"gb\"\n",
    "    with open(test_dir + \"/config.yaml\", 'w') as f:\n",
    "        f.write(f\"time: {time_limit}\\n\")\n",
    "        f.write(f\"memory: {memory_limit}\\n\")\n",
    "    print(f\"Generated config.yaml for {test_dir}\")"
   ]
  },
  {
   "cell_type": "code",
   "execution_count": 22,
   "metadata": {},
   "outputs": [
    {
     "name": "stdout",
     "output_type": "stream",
     "text": [
      "Generated problem.yaml for loj/testdata/TestData_#100\n",
      "Generated problem.yaml for loj/testdata/TestData_#101\n",
      "Generated problem.yaml for loj/testdata/TestData_#102\n"
     ]
    }
   ],
   "source": [
    "# generate problem.yaml for each problem\n",
    "# problem.yaml:\n",
    "# title: 题目名\n",
    "# tag:\n",
    "# - 标签1\n",
    "# - 标签2\n",
    "# pid: 题号（字母+数字）\n",
    "for name in all_json_files[:3]:\n",
    "    test_dir = \"loj/testdata/TestData_\" + name.split(\"_\")[0]\n",
    "    with open(base_path + name, 'r') as f:\n",
    "        data = json.load(f)\n",
    "        title = data['title']\n",
    "        remove_str = title.split(\" \")[0] + \" \"\n",
    "        title = title.replace(remove_str, \"\")\n",
    "        labels = data['labels']\n",
    "        tag_list = []\n",
    "        start = False\n",
    "        for i in labels:\n",
    "            if i == \"Hide Tags\":\n",
    "                start = True\n",
    "                continue\n",
    "            if start:\n",
    "                tag_list.append(i)\n",
    "        pid = \"L\" + data[\"ID\"]\n",
    "    with open(test_dir + \"/problem.yaml\", 'w') as f:\n",
    "        f.write(f\"title: {title}\\n\")\n",
    "        f.write(\"tag:\\n\")\n",
    "        for i in tag_list:\n",
    "            f.write(f\"- {i}\\n\")\n",
    "        f.write(f\"pid: {pid}\\n\")\n",
    "    print(f\"Generated problem.yaml for {test_dir}\")"
   ]
  },
  {
   "cell_type": "code",
   "execution_count": 23,
   "metadata": {},
   "outputs": [
    {
     "name": "stdout",
     "output_type": "stream",
     "text": [
      "Generated problem.md for loj/testdata/TestData_#100\n",
      "Generated problem.md for loj/testdata/TestData_#101\n",
      "Generated problem.md for loj/testdata/TestData_#102\n"
     ]
    }
   ],
   "source": [
    "# generate problem.md for each problem\n",
    "# problem.md is the mark down file, and the input will be \n",
    "# \"content\": {\n",
    "#         \"题目描述\": \"ZQC 和妹子来到了一片小树林，看到一列列参差不齐的树，ZQC 想到了一种评价每一列树的美观程度的方法 —— 将相邻两棵树高度差的总和作为一列树的美观度。即，设一列树的高度组成的序列为 A ，则其美观度为\\nf(A) = \\\\sum\\\\limits_{i = 1} ^ {|A| - 1} |A_i - A_{i + 1}| 。\\nZQC 想，每一列树都有一些特征，于是他钦定了一列树的特征值 —— 设 S 为 A 的美观度最大的子序列，若 A 有 k 个子序列 T_i 的美观度与 S 相同（即 f(T_i) = f(S) ），则称 A 的特征值为 k 。注意，子序列不能为空。\\nZQC 的妹子非常喜欢 k 这个特征值，她希望 ZQC 能给她种一列特征值为 k 的树。按照套路，这么简单的问题 ZQC 当然不会亲自出马，所以他钦定你来解决这个问题。\\n给出一个序列 A 的特征值 k （ 1 \\\\leq k \\\\leq 10 ^ {18} ），要求构造一个这样的序列 A （ 1 \\\\leq |A| \\\\leq 5000 ， 0 \\\\leq A_i \\\\leq 2 ^ {31} - 1 ）。\",\n",
    "#         \"输入格式\": \"一行一个数 k 。\",\n",
    "#         \"输出格式\": \"如果有解，输出两行。第一行一个正整数 n 。第二行 n 个正整数表示构造的序列 A 。\\n如果无解，输出一行 qnq。\",\n",
    "#         \"样例 1\": \"\",\n",
    "#         \"样例 2\": \"\"\n",
    "#     },\n",
    "#  \"samples\": [\n",
    "#         {\n",
    "#             \"input\": \"3 4 5\\n-2 -8 -9 8\\n-10 0 6 -8\\n-10 -6 6 9\\n4 -7 5 -5 9\\n10 -2 -10 5 5\\n-3 -7 -3 8 -2\\n-6 7 7 3 -2\",\n",
    "#             \"output\": \"999999898 149 153 999999929 999999951\\n999999997 999999979 999999883 74 999999921\\n999999835 103 55 95 999999857\"\n",
    "#         }\n",
    "#     ],\n",
    "# to:\n",
    "# ## Sample Input 2\n",
    "# \n",
    "# ```\n",
    "# 1 1\n",
    "# ```\n",
    "# \n",
    "# ### Sample Output 2\n",
    "# \n",
    "# ```\n",
    "# Draw\n",
    "# ```\n",
    "#\n",
    "for name in all_json_files[:3]:\n",
    "    test_dir = \"loj/testdata/TestData_\" + name.split(\"_\")[0]\n",
    "    with open(base_path + name, 'r') as f:\n",
    "        data = json.load(f)\n",
    "        content = data['content']\n",
    "        translated_content = {}\n",
    "        for key in content.keys():\n",
    "            if key == \"题目描述\":\n",
    "                translated_content[\"Problem Description\"] = content[key]\n",
    "            elif key == \"输入格式\":\n",
    "                translated_content[\"Input Format\"] = content[key]\n",
    "            elif key == \"输出格式\":\n",
    "                translated_content[\"Output Format\"] = content[key]\n",
    "            elif key == \"数据范围与提示\":\n",
    "                translated_content[\"Data Range and Hint\"] = content[key]\n",
    "            elif key.startswith(\"样例\"):\n",
    "                pass\n",
    "            else:\n",
    "                translated_content[key] = content[key]\n",
    "        content_str = \"\"\n",
    "        # generate markdown content\n",
    "        for key in translated_content.keys():\n",
    "            content_str += f\"## {key}\\n\\n\"\n",
    "            content_str += translated_content[key] + \"\\n\\n\"\n",
    "        content_str += \"## Sample Input\\n\\n\"\n",
    "        for i, sample in enumerate(data['samples']):\n",
    "            content_str += f\"### Sample Input {i+1}\\n\\n\"\n",
    "            content_str += \"```\\n\"\n",
    "            content_str += sample['input'] + \"\\n\"\n",
    "            content_str += \"```\\n\\n\"\n",
    "            content_str += f\"### Sample Output {i+1}\\n\\n\"\n",
    "            content_str += \"```\\n\"\n",
    "            content_str += sample['output'] + \"\\n\"\n",
    "            content_str += \"```\\n\\n\"\n",
    "    with open(test_dir + \"/problem.md\", 'w') as f:\n",
    "        f.write(content_str)\n",
    "    print(f\"Generated problem.md for {test_dir}\")"
   ]
  }
 ],
 "metadata": {
  "kernelspec": {
   "display_name": "base",
   "language": "python",
   "name": "python3"
  },
  "language_info": {
   "codemirror_mode": {
    "name": "ipython",
    "version": 3
   },
   "file_extension": ".py",
   "mimetype": "text/x-python",
   "name": "python",
   "nbconvert_exporter": "python",
   "pygments_lexer": "ipython3",
   "version": "3.12.7"
  }
 },
 "nbformat": 4,
 "nbformat_minor": 2
}
