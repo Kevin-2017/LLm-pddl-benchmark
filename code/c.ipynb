{
 "cells": [
  {
   "cell_type": "code",
   "execution_count": 55,
   "metadata": {},
   "outputs": [
    {
     "name": "stdout",
     "output_type": "stream",
     "text": [
      "Crawling: https://loj.ac/p\n"
     ]
    }
   ],
   "source": [
    "from selenium import webdriver\n",
    "from selenium.webdriver.common.by import By\n",
    "from selenium.webdriver.chrome.service import Service\n",
    "from selenium.webdriver.chrome.options import Options\n",
    "import time\n",
    "import json\n",
    "import csv\n",
    "\n",
    "options = Options()\n",
    "options.add_argument('--headless')  # Run in headless mode (no GUI)\n",
    "options.add_argument('--disable-gpu')  # Disable GPU acceleration\n",
    "options.add_argument('--no-sandbox')  # Bypass OS security model\n",
    "user_agent = \"Mozilla/5.0 (Windows NT 10.0; Win64; x64) AppleWebKit/537.36 (KHTML, like Gecko) Chrome/117.0.0.0 Safari/537.36\"\n",
    "options.add_argument(f\"user-agent={user_agent}\")\n",
    "download_dir = \"./loj/testdata\" \n",
    "prefs = {\n",
    "\t\"download.default_directory\": download_dir,\n",
    "\t\"download.prompt_for_download\": False, \n",
    "\t\"download.directory_upgrade\": True, \n",
    "\t\"safebrowsing.enabled\": True \n",
    "}\n",
    "options.add_experimental_option(\"prefs\", prefs)\n",
    "\n",
    "# Path to ChromeDriver\n",
    "chromedriver_path = \"/home/jianzhu/LLm-pddl-benchmark/code/chromedriver-linux64/chromedriver\"  # Replace with your actual path\n",
    "service = Service(chromedriver_path)\n",
    "\n",
    "driver = webdriver.Chrome(service=service, options=options)\n",
    "\n",
    "driver.set_page_load_timeout(12000) \n",
    "\n",
    "url = \"https://loj.ac/p\"\n",
    "driver.get(url)\n",
    "time.sleep(5)  # Allow time for the page to load\n",
    "\n",
    "print(f\"Crawling: {url}\")"
   ]
  },
  {
   "cell_type": "code",
   "execution_count": null,
   "metadata": {},
   "outputs": [],
   "source": [
    "pagination = driver.find_elements(By.CSS_SELECTOR, \"div._pagination_1ip09_1.menu a.item\")\n",
    "total_pages = int(pagination[-2].text)  # 倒数第二个是总页数\n",
    "print(f\"Total pages: {total_pages}\")\n"
   ]
  },
  {
   "cell_type": "code",
   "execution_count": null,
   "metadata": {},
   "outputs": [],
   "source": [
    "import json\n",
    "base_url = \"https://loj.ac/p\"\n",
    "all_problems = []\n",
    "for page in range(1, total_pages + 1):\n",
    "\tprint(f\"Scraping page {page}...\")\n",
    "\tpage_url = f\"{base_url}?page={page}\"\n",
    "\tdriver.get(page_url)\n",
    "\n",
    "\ttime.sleep(2)\n",
    "\n",
    "\trows = driver.find_elements(By.CSS_SELECTOR, \"tr._row_15kiv_90\")\n",
    "\tfor row in rows:\n",
    "\t\tcolumns = row.find_elements(By.TAG_NAME, \"td\")\n",
    "\t\tif len(columns) >= 4:\n",
    "\t\t\tproblem_id = columns[0].text\n",
    "\t\t\ttitle_element = columns[1].find_element(By.TAG_NAME, \"a\")\n",
    "\t\t\ttitle = title_element.text\n",
    "\t\t\tlink = \"https://loj.ac\" + title_element.get_attribute(\"href\")\n",
    "\t\t\tsubmissions = columns[2].text\n",
    "\t\t\tacceptance = columns[3].text\n",
    "\n",
    "\t\t\tproblem_data = {\n",
    "\t\t\t\t\"ID\": problem_id,\n",
    "\t\t\t\t\"Title\": title,\n",
    "\t\t\t\t\"Link\": link,\n",
    "\t\t\t\t\"Submissions\": submissions,\n",
    "\t\t\t\t\"Acceptance\": acceptance,\n",
    "\t\t\t}\n",
    "\t\t\tall_problems.append(problem_data)\n",
    "output_file = \"problems.json\"\n",
    "with open(output_file, \"w\", encoding=\"utf-8\") as f:\n",
    "\tjson.dump(all_problems, f, ensure_ascii=False, indent=4)\n",
    "print(f\"Data has been saved to {output_file}\")"
   ]
  },
  {
   "cell_type": "code",
   "execution_count": null,
   "metadata": {},
   "outputs": [
    {
     "name": "stderr",
     "output_type": "stream",
     "text": [
      "  0%|          | 9/3353 [00:29<4:12:24,  4.53s/it]"
     ]
    },
    {
     "name": "stdout",
     "output_type": "stream",
     "text": [
      "Data has been saved to loj/#100._矩阵乘法.json\n"
     ]
    },
    {
     "name": "stderr",
     "output_type": "stream",
     "text": [
      "  0%|          | 10/3353 [00:38<5:30:26,  5.93s/it]"
     ]
    },
    {
     "name": "stdout",
     "output_type": "stream",
     "text": [
      "Data has been saved to loj/#101._最大流.json\n"
     ]
    },
    {
     "name": "stderr",
     "output_type": "stream",
     "text": [
      "  0%|          | 11/3353 [00:47<6:22:54,  6.87s/it]"
     ]
    },
    {
     "name": "stdout",
     "output_type": "stream",
     "text": [
      "Data has been saved to loj/#102._最小费用流.json\n"
     ]
    },
    {
     "name": "stderr",
     "output_type": "stream",
     "text": [
      "  0%|          | 12/3353 [00:56<6:59:19,  7.53s/it]"
     ]
    },
    {
     "name": "stdout",
     "output_type": "stream",
     "text": [
      "Data has been saved to loj/#103._子串查找.json\n"
     ]
    },
    {
     "name": "stderr",
     "output_type": "stream",
     "text": [
      "  0%|          | 13/3353 [01:05<7:25:48,  8.01s/it]"
     ]
    },
    {
     "name": "stdout",
     "output_type": "stream",
     "text": [
      "Data has been saved to loj/#104._普通平衡树.json\n"
     ]
    },
    {
     "name": "stderr",
     "output_type": "stream",
     "text": [
      "  0%|          | 14/3353 [01:14<7:51:11,  8.47s/it]"
     ]
    },
    {
     "name": "stdout",
     "output_type": "stream",
     "text": [
      "Data has been saved to loj/#105._文艺平衡树.json\n"
     ]
    },
    {
     "name": "stderr",
     "output_type": "stream",
     "text": [
      "  0%|          | 15/3353 [01:24<8:04:19,  8.71s/it]"
     ]
    },
    {
     "name": "stdout",
     "output_type": "stream",
     "text": [
      "Data has been saved to loj/#106._二逼平衡树.json\n"
     ]
    },
    {
     "name": "stderr",
     "output_type": "stream",
     "text": [
      "  0%|          | 16/3353 [01:33<8:11:12,  8.83s/it]"
     ]
    },
    {
     "name": "stdout",
     "output_type": "stream",
     "text": [
      "Data has been saved to loj/#107._维护全序集.json\n"
     ]
    },
    {
     "name": "stderr",
     "output_type": "stream",
     "text": [
      "  1%|          | 17/3353 [01:42<8:17:30,  8.95s/it]"
     ]
    },
    {
     "name": "stdout",
     "output_type": "stream",
     "text": [
      "Data has been saved to loj/#108._多项式乘法.json\n"
     ]
    },
    {
     "name": "stderr",
     "output_type": "stream",
     "text": [
      "  1%|          | 18/3353 [01:51<8:19:52,  8.99s/it]"
     ]
    },
    {
     "name": "stdout",
     "output_type": "stream",
     "text": [
      "Data has been saved to loj/#109._并查集.json\n"
     ]
    },
    {
     "name": "stderr",
     "output_type": "stream",
     "text": [
      "  1%|          | 19/3353 [02:00<8:19:42,  8.99s/it]"
     ]
    },
    {
     "name": "stdout",
     "output_type": "stream",
     "text": [
      "Data has been saved to loj/#110._乘法逆元.json\n"
     ]
    },
    {
     "name": "stderr",
     "output_type": "stream",
     "text": [
      "  1%|          | 20/3353 [02:09<8:20:59,  9.02s/it]"
     ]
    },
    {
     "name": "stdout",
     "output_type": "stream",
     "text": [
      "Data has been saved to loj/#111._后缀排序.json\n"
     ]
    },
    {
     "name": "stderr",
     "output_type": "stream",
     "text": [
      "  1%|          | 21/3353 [02:18<8:21:55,  9.04s/it]"
     ]
    },
    {
     "name": "stdout",
     "output_type": "stream",
     "text": [
      "Data has been saved to loj/#112._三维偏序.json\n"
     ]
    },
    {
     "name": "stderr",
     "output_type": "stream",
     "text": [
      "  1%|          | 22/3353 [02:27<8:23:32,  9.07s/it]"
     ]
    },
    {
     "name": "stdout",
     "output_type": "stream",
     "text": [
      "Data has been saved to loj/#113._最大异或和.json\n"
     ]
    },
    {
     "name": "stderr",
     "output_type": "stream",
     "text": [
      "  1%|          | 23/3353 [02:36<8:23:02,  9.06s/it]"
     ]
    },
    {
     "name": "stdout",
     "output_type": "stream",
     "text": [
      "Data has been saved to loj/#114._k_大异或和.json\n"
     ]
    },
    {
     "name": "stderr",
     "output_type": "stream",
     "text": [
      "  1%|          | 24/3353 [02:46<8:40:52,  9.39s/it]"
     ]
    },
    {
     "name": "stdout",
     "output_type": "stream",
     "text": [
      "Data has been saved to loj/#115._无源汇有上下界可行流.json\n"
     ]
    },
    {
     "name": "stderr",
     "output_type": "stream",
     "text": [
      "  1%|          | 25/3353 [02:56<8:35:45,  9.30s/it]"
     ]
    },
    {
     "name": "stdout",
     "output_type": "stream",
     "text": [
      "Data has been saved to loj/#116._有源汇有上下界最大流.json\n"
     ]
    },
    {
     "name": "stderr",
     "output_type": "stream",
     "text": [
      "  1%|          | 26/3353 [03:05<8:32:14,  9.24s/it]"
     ]
    },
    {
     "name": "stdout",
     "output_type": "stream",
     "text": [
      "Data has been saved to loj/#117._有源汇有上下界最小流.json\n"
     ]
    },
    {
     "name": "stderr",
     "output_type": "stream",
     "text": [
      "  1%|          | 27/3353 [03:14<8:30:51,  9.22s/it]"
     ]
    },
    {
     "name": "stdout",
     "output_type": "stream",
     "text": [
      "Data has been saved to loj/#118._正则表达式.json\n"
     ]
    },
    {
     "name": "stderr",
     "output_type": "stream",
     "text": [
      "  1%|          | 28/3353 [03:23<8:29:36,  9.20s/it]"
     ]
    },
    {
     "name": "stdout",
     "output_type": "stream",
     "text": [
      "Data has been saved to loj/#119._单源最短路.json\n"
     ]
    },
    {
     "name": "stderr",
     "output_type": "stream",
     "text": [
      "  1%|          | 29/3353 [03:32<8:26:39,  9.15s/it]"
     ]
    },
    {
     "name": "stdout",
     "output_type": "stream",
     "text": [
      "Data has been saved to loj/#120._持久化序列.json\n"
     ]
    },
    {
     "name": "stderr",
     "output_type": "stream",
     "text": [
      "  1%|          | 30/3353 [03:41<8:26:25,  9.14s/it]"
     ]
    },
    {
     "name": "stdout",
     "output_type": "stream",
     "text": [
      "Data has been saved to loj/#121._「离线可过」动态图连通性.json\n"
     ]
    },
    {
     "name": "stderr",
     "output_type": "stream",
     "text": [
      "  1%|          | 31/3353 [03:50<8:26:27,  9.15s/it]"
     ]
    },
    {
     "name": "stdout",
     "output_type": "stream",
     "text": [
      "Data has been saved to loj/#122._「强制在线」动态图连通性.json\n"
     ]
    },
    {
     "name": "stderr",
     "output_type": "stream",
     "text": [
      "  1%|          | 32/3353 [03:59<8:24:28,  9.11s/it]"
     ]
    },
    {
     "name": "stdout",
     "output_type": "stream",
     "text": [
      "Data has been saved to loj/#123._最小生成树.json\n"
     ]
    },
    {
     "name": "stderr",
     "output_type": "stream",
     "text": [
      "  1%|          | 33/3353 [04:08<8:22:55,  9.09s/it]"
     ]
    },
    {
     "name": "stdout",
     "output_type": "stream",
     "text": [
      "Data has been saved to loj/#124._除数函数求和_1.json\n"
     ]
    },
    {
     "name": "stderr",
     "output_type": "stream",
     "text": [
      "  1%|          | 34/3353 [04:18<8:23:48,  9.11s/it]"
     ]
    },
    {
     "name": "stdout",
     "output_type": "stream",
     "text": [
      "Data has been saved to loj/#125._除数函数求和_2.json\n"
     ]
    },
    {
     "name": "stderr",
     "output_type": "stream",
     "text": [
      "  1%|          | 35/3353 [04:27<8:23:59,  9.11s/it]"
     ]
    },
    {
     "name": "stdout",
     "output_type": "stream",
     "text": [
      "Data has been saved to loj/#127._最大流_加强版.json\n"
     ]
    },
    {
     "name": "stderr",
     "output_type": "stream",
     "text": [
      "  1%|          | 36/3353 [04:36<8:23:27,  9.11s/it]"
     ]
    },
    {
     "name": "stdout",
     "output_type": "stream",
     "text": [
      "Data has been saved to loj/#129._Lyndon_分解.json\n"
     ]
    },
    {
     "name": "stderr",
     "output_type": "stream",
     "text": [
      "  1%|          | 37/3353 [04:45<8:20:33,  9.06s/it]"
     ]
    },
    {
     "name": "stdout",
     "output_type": "stream",
     "text": [
      "Data has been saved to loj/#130._BIT_I:_Single_Modify,_Interval_Query.json\n"
     ]
    },
    {
     "name": "stderr",
     "output_type": "stream",
     "text": [
      "  1%|          | 38/3353 [04:54<8:19:24,  9.04s/it]"
     ]
    },
    {
     "name": "stdout",
     "output_type": "stream",
     "text": [
      "Data has been saved to loj/#131._树状数组_2_：区间修改，单点查询.json\n"
     ]
    },
    {
     "name": "stderr",
     "output_type": "stream",
     "text": [
      "  1%|          | 39/3353 [05:03<8:20:12,  9.06s/it]"
     ]
    },
    {
     "name": "stdout",
     "output_type": "stream",
     "text": [
      "Data has been saved to loj/#132._树状数组_3_：区间修改，区间查询.json\n"
     ]
    },
    {
     "name": "stderr",
     "output_type": "stream",
     "text": [
      "  1%|          | 40/3353 [05:12<8:19:15,  9.04s/it]"
     ]
    },
    {
     "name": "stdout",
     "output_type": "stream",
     "text": [
      "Data has been saved to loj/#133._二维树状数组_1：单点修改，区间查询.json\n"
     ]
    },
    {
     "name": "stderr",
     "output_type": "stream",
     "text": [
      "  1%|          | 41/3353 [05:21<8:19:08,  9.04s/it]"
     ]
    },
    {
     "name": "stdout",
     "output_type": "stream",
     "text": [
      "Data has been saved to loj/#134._二维树状数组_2：区间修改，单点查询.json\n"
     ]
    },
    {
     "name": "stderr",
     "output_type": "stream",
     "text": [
      "  1%|▏         | 42/3353 [05:30<8:18:55,  9.04s/it]"
     ]
    },
    {
     "name": "stdout",
     "output_type": "stream",
     "text": [
      "Data has been saved to loj/#135._二维树状数组_3：区间修改，区间查询.json\n"
     ]
    },
    {
     "name": "stderr",
     "output_type": "stream",
     "text": [
      "  1%|▏         | 43/3353 [05:39<8:21:53,  9.10s/it]"
     ]
    },
    {
     "name": "stdout",
     "output_type": "stream",
     "text": [
      "Data has been saved to loj/#136._最小瓶颈路.json\n"
     ]
    },
    {
     "name": "stderr",
     "output_type": "stream",
     "text": [
      "  1%|▏         | 44/3353 [05:48<8:25:01,  9.16s/it]"
     ]
    },
    {
     "name": "stdout",
     "output_type": "stream",
     "text": [
      "Data has been saved to loj/#137._最小瓶颈路（加强版）.json\n"
     ]
    },
    {
     "name": "stderr",
     "output_type": "stream",
     "text": [
      "  1%|▏         | 45/3353 [05:58<8:26:21,  9.18s/it]"
     ]
    },
    {
     "name": "stdout",
     "output_type": "stream",
     "text": [
      "Data has been saved to loj/#138._类欧几里得算法.json\n"
     ]
    },
    {
     "name": "stderr",
     "output_type": "stream",
     "text": [
      "  1%|▏         | 46/3353 [06:07<8:23:55,  9.14s/it]"
     ]
    },
    {
     "name": "stdout",
     "output_type": "stream",
     "text": [
      "Data has been saved to loj/#139._树链剖分.json\n"
     ]
    },
    {
     "name": "stderr",
     "output_type": "stream",
     "text": [
      "  1%|▏         | 47/3353 [06:16<8:22:03,  9.11s/it]"
     ]
    },
    {
     "name": "stdout",
     "output_type": "stream",
     "text": [
      "Data has been saved to loj/#140._最小树形图.json\n"
     ]
    },
    {
     "name": "stderr",
     "output_type": "stream",
     "text": [
      "  1%|▏         | 48/3353 [06:25<8:23:48,  9.15s/it]"
     ]
    },
    {
     "name": "stdout",
     "output_type": "stream",
     "text": [
      "Data has been saved to loj/#141._回文子串.json\n"
     ]
    },
    {
     "name": "stderr",
     "output_type": "stream",
     "text": [
      "  1%|▏         | 49/3353 [06:34<8:21:49,  9.11s/it]"
     ]
    },
    {
     "name": "stdout",
     "output_type": "stream",
     "text": [
      "Data has been saved to loj/#143._质数判定.json\n"
     ]
    },
    {
     "name": "stderr",
     "output_type": "stream",
     "text": [
      "  1%|▏         | 50/3353 [06:43<8:21:11,  9.10s/it]"
     ]
    },
    {
     "name": "stdout",
     "output_type": "stream",
     "text": [
      "Data has been saved to loj/#144._DFS_序_1.json\n"
     ]
    },
    {
     "name": "stderr",
     "output_type": "stream",
     "text": [
      "  2%|▏         | 51/3353 [06:52<8:19:38,  9.08s/it]"
     ]
    },
    {
     "name": "stdout",
     "output_type": "stream",
     "text": [
      "Data has been saved to loj/#145._DFS_序_2.json\n"
     ]
    },
    {
     "name": "stderr",
     "output_type": "stream",
     "text": [
      "  2%|▏         | 52/3353 [07:01<8:20:16,  9.09s/it]"
     ]
    },
    {
     "name": "stdout",
     "output_type": "stream",
     "text": [
      "Data has been saved to loj/#146._DFS_序_3，树上差分_1.json\n"
     ]
    },
    {
     "name": "stderr",
     "output_type": "stream",
     "text": [
      "  2%|▏         | 53/3353 [07:10<8:20:26,  9.10s/it]"
     ]
    },
    {
     "name": "stdout",
     "output_type": "stream",
     "text": [
      "Data has been saved to loj/#147._DFS_Order_IV.json\n"
     ]
    },
    {
     "name": "stderr",
     "output_type": "stream",
     "text": [
      "  2%|▏         | 54/3353 [07:20<8:22:26,  9.14s/it]"
     ]
    },
    {
     "name": "stdout",
     "output_type": "stream",
     "text": [
      "Data has been saved to loj/#149._01_分数规划.json\n"
     ]
    },
    {
     "name": "stderr",
     "output_type": "stream",
     "text": [
      "  2%|▏         | 55/3353 [07:29<8:24:18,  9.17s/it]"
     ]
    },
    {
     "name": "stdout",
     "output_type": "stream",
     "text": [
      "Data has been saved to loj/#150._挑战多项式.json\n"
     ]
    },
    {
     "name": "stderr",
     "output_type": "stream",
     "text": [
      "  2%|▏         | 56/3353 [07:38<8:24:51,  9.19s/it]"
     ]
    },
    {
     "name": "stdout",
     "output_type": "stream",
     "text": [
      "Data has been saved to loj/#151._多项式求立方根.json\n"
     ]
    },
    {
     "name": "stderr",
     "output_type": "stream",
     "text": [
      "  2%|▏         | 57/3353 [07:47<8:25:54,  9.21s/it]"
     ]
    },
    {
     "name": "stdout",
     "output_type": "stream",
     "text": [
      "Data has been saved to loj/#152._子集卷积.json\n"
     ]
    },
    {
     "name": "stderr",
     "output_type": "stream",
     "text": [
      "  2%|▏         | 58/3353 [07:56<8:25:20,  9.20s/it]"
     ]
    },
    {
     "name": "stdout",
     "output_type": "stream",
     "text": [
      "Data has been saved to loj/#153._集合覆盖计数.json\n"
     ]
    },
    {
     "name": "stderr",
     "output_type": "stream",
     "text": [
      "  2%|▏         | 59/3353 [08:06<8:33:39,  9.36s/it]"
     ]
    },
    {
     "name": "stdout",
     "output_type": "stream",
     "text": [
      "Data has been saved to loj/#154._集合划分计数.json\n"
     ]
    },
    {
     "name": "stderr",
     "output_type": "stream",
     "text": [
      "  2%|▏         | 60/3353 [08:16<8:33:24,  9.35s/it]"
     ]
    },
    {
     "name": "stdout",
     "output_type": "stream",
     "text": [
      "Data has been saved to loj/#155._Tutte_多项式.json\n"
     ]
    },
    {
     "name": "stderr",
     "output_type": "stream",
     "text": [
      "  2%|▏         | 61/3353 [08:25<8:33:40,  9.36s/it]"
     ]
    },
    {
     "name": "stdout",
     "output_type": "stream",
     "text": [
      "Data has been saved to loj/#160._Knapsack_Problem_on_Tree.json\n"
     ]
    },
    {
     "name": "stderr",
     "output_type": "stream",
     "text": [
      "  2%|▏         | 62/3353 [08:34<8:27:37,  9.25s/it]"
     ]
    },
    {
     "name": "stdout",
     "output_type": "stream",
     "text": [
      "Data has been saved to loj/#161._乘法逆元_2.json\n"
     ]
    },
    {
     "name": "stderr",
     "output_type": "stream",
     "text": [
      "  2%|▏         | 63/3353 [08:43<8:23:05,  9.17s/it]"
     ]
    },
    {
     "name": "stdout",
     "output_type": "stream",
     "text": [
      "Data has been saved to loj/#162._快速幂_2.json\n"
     ]
    },
    {
     "name": "stderr",
     "output_type": "stream",
     "text": [
      "  2%|▏         | 64/3353 [08:52<8:18:03,  9.09s/it]"
     ]
    },
    {
     "name": "stdout",
     "output_type": "stream",
     "text": [
      "Data has been saved to loj/#163._高斯消元_2.json\n"
     ]
    },
    {
     "name": "stderr",
     "output_type": "stream",
     "text": [
      "  2%|▏         | 65/3353 [09:01<8:17:48,  9.08s/it]"
     ]
    },
    {
     "name": "stdout",
     "output_type": "stream",
     "text": [
      "Data has been saved to loj/#164._高精度除法.json\n"
     ]
    },
    {
     "name": "stderr",
     "output_type": "stream",
     "text": [
      "  2%|▏         | 66/3353 [09:10<8:16:30,  9.06s/it]"
     ]
    },
    {
     "name": "stdout",
     "output_type": "stream",
     "text": [
      "Data has been saved to loj/#165._拉格朗日插值.json\n"
     ]
    },
    {
     "name": "stderr",
     "output_type": "stream",
     "text": [
      "  2%|▏         | 67/3353 [09:19<8:16:54,  9.07s/it]"
     ]
    },
    {
     "name": "stdout",
     "output_type": "stream",
     "text": [
      "Data has been saved to loj/#166._拉格朗日插值_2.json\n"
     ]
    },
    {
     "name": "stderr",
     "output_type": "stream",
     "text": [
      "  2%|▏         | 68/3353 [09:28<8:16:36,  9.07s/it]"
     ]
    },
    {
     "name": "stdout",
     "output_type": "stream",
     "text": [
      "Data has been saved to loj/#167._康托展开.json\n"
     ]
    },
    {
     "name": "stderr",
     "output_type": "stream",
     "text": [
      "  2%|▏         | 69/3353 [09:37<8:17:57,  9.10s/it]"
     ]
    },
    {
     "name": "stdout",
     "output_type": "stream",
     "text": [
      "Data has been saved to loj/#170._阶乘_mod_大质数.json\n"
     ]
    },
    {
     "name": "stderr",
     "output_type": "stream",
     "text": [
      "  2%|▏         | 70/3353 [09:47<8:29:29,  9.31s/it]"
     ]
    },
    {
     "name": "stdout",
     "output_type": "stream",
     "text": [
      "Data has been saved to loj/#171._最长公共子串.json\n"
     ]
    },
    {
     "name": "stderr",
     "output_type": "stream",
     "text": [
      "  2%|▏         | 71/3353 [09:58<8:48:55,  9.67s/it]"
     ]
    },
    {
     "name": "stdout",
     "output_type": "stream",
     "text": [
      "Data has been saved to loj/#172._多项式欧几里得.json\n"
     ]
    },
    {
     "name": "stderr",
     "output_type": "stream",
     "text": [
      "  2%|▏         | 72/3353 [10:08<9:09:41, 10.05s/it]"
     ]
    },
    {
     "name": "stdout",
     "output_type": "stream",
     "text": [
      "Data has been saved to loj/#173._Runs.json\n"
     ]
    },
    {
     "name": "stderr",
     "output_type": "stream",
     "text": [
      "  2%|▏         | 73/3353 [10:19<9:14:02, 10.14s/it]"
     ]
    },
    {
     "name": "stdout",
     "output_type": "stream",
     "text": [
      "Data has been saved to loj/#174._Binomial_Convolution.json\n"
     ]
    },
    {
     "name": "stderr",
     "output_type": "stream",
     "text": [
      "  2%|▏         | 74/3353 [10:30<9:25:45, 10.35s/it]"
     ]
    },
    {
     "name": "stdout",
     "output_type": "stream",
     "text": [
      "Data has been saved to loj/#175._模立方根.json\n"
     ]
    },
    {
     "name": "stderr",
     "output_type": "stream",
     "text": [
      "  2%|▏         | 75/3353 [10:40<9:30:22, 10.44s/it]"
     ]
    },
    {
     "name": "stdout",
     "output_type": "stream",
     "text": [
      "Data has been saved to loj/#176._动理序列最值.json\n"
     ]
    },
    {
     "name": "stderr",
     "output_type": "stream",
     "text": [
      "  2%|▏         | 76/3353 [10:51<9:30:55, 10.45s/it]"
     ]
    },
    {
     "name": "stdout",
     "output_type": "stream",
     "text": [
      "Data has been saved to loj/#177._生成子群阶数.json\n"
     ]
    },
    {
     "name": "stderr",
     "output_type": "stream",
     "text": [
      "  2%|▏         | 77/3353 [11:01<9:33:54, 10.51s/it]"
     ]
    },
    {
     "name": "stdout",
     "output_type": "stream",
     "text": [
      "Data has been saved to loj/#178._多项式求根.json\n"
     ]
    },
    {
     "name": "stderr",
     "output_type": "stream",
     "text": [
      "  2%|▏         | 78/3353 [11:12<9:34:18, 10.52s/it]"
     ]
    },
    {
     "name": "stdout",
     "output_type": "stream",
     "text": [
      "Data has been saved to loj/#179._Nim_积.json\n"
     ]
    },
    {
     "name": "stderr",
     "output_type": "stream",
     "text": [
      "  2%|▏         | 79/3353 [11:22<9:28:11, 10.41s/it]"
     ]
    },
    {
     "name": "stdout",
     "output_type": "stream",
     "text": [
      "Data has been saved to loj/#180._正则二分图匹配.json\n"
     ]
    },
    {
     "name": "stderr",
     "output_type": "stream",
     "text": [
      "  2%|▏         | 80/3353 [11:33<9:37:58, 10.60s/it]"
     ]
    },
    {
     "name": "stdout",
     "output_type": "stream",
     "text": [
      "Data has been saved to loj/#181._二项式系数.json\n"
     ]
    },
    {
     "name": "stderr",
     "output_type": "stream",
     "text": [
      "  2%|▏         | 81/3353 [11:44<9:48:02, 10.78s/it]"
     ]
    },
    {
     "name": "stdout",
     "output_type": "stream",
     "text": [
      "Data has been saved to loj/#183._高精度进制转换.json\n"
     ]
    },
    {
     "name": "stderr",
     "output_type": "stream",
     "text": [
      "  2%|▏         | 82/3353 [11:55<9:46:22, 10.76s/it]"
     ]
    },
    {
     "name": "stdout",
     "output_type": "stream",
     "text": [
      "Data has been saved to loj/#184._Product_of_Unit_Monge_Matrices.json\n"
     ]
    },
    {
     "name": "stderr",
     "output_type": "stream",
     "text": [
      "  2%|▏         | 83/3353 [12:06<9:47:41, 10.78s/it]"
     ]
    },
    {
     "name": "stdout",
     "output_type": "stream",
     "text": [
      "Data has been saved to loj/#186._动态树.json\n"
     ]
    },
    {
     "name": "stderr",
     "output_type": "stream",
     "text": [
      "  3%|▎         | 84/3353 [12:17<9:46:22, 10.76s/it]"
     ]
    },
    {
     "name": "stdout",
     "output_type": "stream",
     "text": [
      "Data has been saved to loj/#187._最小斯坦纳树.json\n"
     ]
    },
    {
     "name": "stderr",
     "output_type": "stream",
     "text": [
      "  3%|▎         | 85/3353 [12:28<10:00:02, 11.02s/it]"
     ]
    },
    {
     "name": "stdout",
     "output_type": "stream",
     "text": [
      "Data has been saved to loj/#188._可并堆.json\n"
     ]
    },
    {
     "name": "stderr",
     "output_type": "stream",
     "text": [
      "  3%|▎         | 86/3353 [12:39<9:55:33, 10.94s/it] "
     ]
    },
    {
     "name": "stdout",
     "output_type": "stream",
     "text": [
      "Data has been saved to loj/#189._q-整式递推.json\n"
     ]
    },
    {
     "name": "stderr",
     "output_type": "stream",
     "text": [
      "  3%|▎         | 87/3353 [12:50<9:54:04, 10.91s/it]"
     ]
    },
    {
     "name": "stdout",
     "output_type": "stream",
     "text": [
      "Data has been saved to loj/#191._无向图四元环计数.json\n"
     ]
    },
    {
     "name": "stderr",
     "output_type": "stream",
     "text": [
      "  3%|▎         | 88/3353 [13:01<10:02:10, 11.07s/it]"
     ]
    },
    {
     "name": "stdout",
     "output_type": "stream",
     "text": [
      "Data has been saved to loj/#192._素域椭圆曲线数点.json\n"
     ]
    },
    {
     "name": "stderr",
     "output_type": "stream",
     "text": [
      "  3%|▎         | 89/3353 [13:12<9:52:38, 10.89s/it] "
     ]
    },
    {
     "name": "stdout",
     "output_type": "stream",
     "text": [
      "Data has been saved to loj/#193._线段树历史和.json\n"
     ]
    },
    {
     "name": "stderr",
     "output_type": "stream",
     "text": [
      "  3%|▎         | 90/3353 [13:22<9:47:27, 10.80s/it]"
     ]
    },
    {
     "name": "stdout",
     "output_type": "stream",
     "text": [
      "Data has been saved to loj/#194._Column_of_Eulerian_Number.json\n"
     ]
    },
    {
     "name": "stderr",
     "output_type": "stream",
     "text": [
      "  3%|▎         | 91/3353 [13:33<9:41:36, 10.70s/it]"
     ]
    },
    {
     "name": "stdout",
     "output_type": "stream",
     "text": [
      "Data has been saved to loj/#500._「LibreOJ_β_Round」ZQC_的拼图.json\n"
     ]
    },
    {
     "name": "stderr",
     "output_type": "stream",
     "text": [
      "  3%|▎         | 92/3353 [13:43<9:40:53, 10.69s/it]"
     ]
    },
    {
     "name": "stdout",
     "output_type": "stream",
     "text": [
      "Data has been saved to loj/#501._「LibreOJ_β_Round」ZQC_的树列.json\n"
     ]
    },
    {
     "name": "stderr",
     "output_type": "stream",
     "text": [
      "  3%|▎         | 93/3353 [13:55<9:46:11, 10.79s/it]"
     ]
    },
    {
     "name": "stdout",
     "output_type": "stream",
     "text": [
      "Data has been saved to loj/#502._「LibreOJ_β_Round」ZQC_的截图.json\n"
     ]
    },
    {
     "name": "stderr",
     "output_type": "stream",
     "text": [
      "  3%|▎         | 94/3353 [14:05<9:41:47, 10.71s/it]"
     ]
    },
    {
     "name": "stdout",
     "output_type": "stream",
     "text": [
      "Data has been saved to loj/#503._「LibreOJ_β_Round」ZQC_的课堂.json\n"
     ]
    },
    {
     "name": "stderr",
     "output_type": "stream",
     "text": [
      "  3%|▎         | 95/3353 [14:16<9:40:13, 10.69s/it]"
     ]
    },
    {
     "name": "stdout",
     "output_type": "stream",
     "text": [
      "Data has been saved to loj/#504._「LibreOJ_β_Round」ZQC_的手办.json\n"
     ]
    },
    {
     "name": "stderr",
     "output_type": "stream",
     "text": [
      "  3%|▎         | 96/3353 [14:26<9:39:04, 10.67s/it]"
     ]
    },
    {
     "name": "stdout",
     "output_type": "stream",
     "text": [
      "Data has been saved to loj/#505._「LibreOJ_β_Round」ZQC_的游戏.json\n"
     ]
    },
    {
     "name": "stderr",
     "output_type": "stream",
     "text": [
      "  3%|▎         | 97/3353 [14:37<9:37:06, 10.63s/it]"
     ]
    },
    {
     "name": "stdout",
     "output_type": "stream",
     "text": [
      "Data has been saved to loj/#506._「LibreOJ_β_Round」ZQC_的作业.json\n"
     ]
    },
    {
     "name": "stderr",
     "output_type": "stream",
     "text": [
      "  3%|▎         | 98/3353 [14:48<9:44:04, 10.77s/it]"
     ]
    },
    {
     "name": "stdout",
     "output_type": "stream",
     "text": [
      "Data has been saved to loj/#507._「LibreOJ_NOI_Round_#1」接竹竿.json\n"
     ]
    },
    {
     "name": "stderr",
     "output_type": "stream",
     "text": [
      "  3%|▎         | 99/3353 [14:59<9:53:52, 10.95s/it]"
     ]
    },
    {
     "name": "stdout",
     "output_type": "stream",
     "text": [
      "Data has been saved to loj/#508._「LibreOJ_NOI_Round_#1」失控的未来交通工具.json\n"
     ]
    },
    {
     "name": "stderr",
     "output_type": "stream",
     "text": [
      "  3%|▎         | 100/3353 [15:10<9:49:39, 10.88s/it]"
     ]
    },
    {
     "name": "stdout",
     "output_type": "stream",
     "text": [
      "Data has been saved to loj/#509._「LibreOJ_NOI_Round_#1」动态几何问题.json\n"
     ]
    },
    {
     "name": "stderr",
     "output_type": "stream",
     "text": [
      "  3%|▎         | 101/3353 [15:21<9:50:09, 10.89s/it]"
     ]
    },
    {
     "name": "stdout",
     "output_type": "stream",
     "text": [
      "Data has been saved to loj/#510._「LibreOJ_NOI_Round_#1」北校门外的回忆.json\n"
     ]
    },
    {
     "name": "stderr",
     "output_type": "stream",
     "text": [
      "  3%|▎         | 102/3353 [15:33<10:05:36, 11.18s/it]"
     ]
    },
    {
     "name": "stdout",
     "output_type": "stream",
     "text": [
      "Data has been saved to loj/#511._「LibreOJ_NOI_Round_#1」验题.json\n"
     ]
    },
    {
     "name": "stderr",
     "output_type": "stream",
     "text": [
      "  3%|▎         | 103/3353 [15:44<10:04:43, 11.16s/it]"
     ]
    },
    {
     "name": "stdout",
     "output_type": "stream",
     "text": [
      "Data has been saved to loj/#512._「LibreOJ_NOI_Round_#1」春游.json\n"
     ]
    },
    {
     "name": "stderr",
     "output_type": "stream",
     "text": [
      "  3%|▎         | 104/3353 [15:54<9:51:35, 10.93s/it] "
     ]
    },
    {
     "name": "stdout",
     "output_type": "stream",
     "text": [
      "Data has been saved to loj/#513._「LibreOJ_NOI_Round_#1」笔试.json\n"
     ]
    },
    {
     "name": "stderr",
     "output_type": "stream",
     "text": [
      "  3%|▎         | 105/3353 [16:05<9:42:11, 10.75s/it]"
     ]
    },
    {
     "name": "stdout",
     "output_type": "stream",
     "text": [
      "Data has been saved to loj/#514._「LibreOJ_β_Round_#2」模拟只会猜题意.json\n"
     ]
    },
    {
     "name": "stderr",
     "output_type": "stream",
     "text": [
      "  3%|▎         | 106/3353 [16:15<9:38:17, 10.69s/it]"
     ]
    },
    {
     "name": "stdout",
     "output_type": "stream",
     "text": [
      "Data has been saved to loj/#515._「LibreOJ_β_Round_#2」贪心只能过样例.json\n"
     ]
    },
    {
     "name": "stderr",
     "output_type": "stream",
     "text": [
      "  3%|▎         | 107/3353 [16:25<9:31:50, 10.57s/it]"
     ]
    },
    {
     "name": "stdout",
     "output_type": "stream",
     "text": [
      "Data has been saved to loj/#516._「LibreOJ_β_Round_#2」DP_一般看规律.json\n"
     ]
    },
    {
     "name": "stderr",
     "output_type": "stream",
     "text": [
      "  3%|▎         | 108/3353 [16:36<9:28:10, 10.51s/it]"
     ]
    },
    {
     "name": "stdout",
     "output_type": "stream",
     "text": [
      "Data has been saved to loj/#517._「LibreOJ_β_Round_#2」计算几何瞎暴力.json\n"
     ]
    },
    {
     "name": "stderr",
     "output_type": "stream",
     "text": [
      "  3%|▎         | 109/3353 [16:47<9:37:11, 10.68s/it]"
     ]
    },
    {
     "name": "stdout",
     "output_type": "stream",
     "text": [
      "Data has been saved to loj/#518._「LibreOJ_β_Round_#2」数论只会_GCD.json\n"
     ]
    },
    {
     "name": "stderr",
     "output_type": "stream",
     "text": [
      "  3%|▎         | 110/3353 [16:57<9:35:03, 10.64s/it]"
     ]
    },
    {
     "name": "stdout",
     "output_type": "stream",
     "text": [
      "Data has been saved to loj/#519._「LibreOJ_β_Round_#2」数学上来先打表.json\n"
     ]
    },
    {
     "name": "stderr",
     "output_type": "stream",
     "text": [
      "  3%|▎         | 111/3353 [17:08<9:39:56, 10.73s/it]"
     ]
    },
    {
     "name": "stdout",
     "output_type": "stream",
     "text": [
      "Data has been saved to loj/#520._「LibreOJ_β_Round_#3」绯色_IOI（开端）.json\n"
     ]
    },
    {
     "name": "stderr",
     "output_type": "stream",
     "text": [
      "  3%|▎         | 112/3353 [17:19<9:41:10, 10.76s/it]"
     ]
    },
    {
     "name": "stdout",
     "output_type": "stream",
     "text": [
      "Data has been saved to loj/#521._「LibreOJ_β_Round_#3」绯色_IOI（抵达）.json\n"
     ]
    },
    {
     "name": "stderr",
     "output_type": "stream",
     "text": [
      "  3%|▎         | 113/3353 [17:30<9:46:35, 10.86s/it]"
     ]
    },
    {
     "name": "stdout",
     "output_type": "stream",
     "text": [
      "Data has been saved to loj/#522._「LibreOJ_β_Round_#3」绯色_IOI（危机）.json\n"
     ]
    },
    {
     "name": "stderr",
     "output_type": "stream",
     "text": [
      "  3%|▎         | 114/3353 [17:42<9:52:43, 10.98s/it]"
     ]
    },
    {
     "name": "stdout",
     "output_type": "stream",
     "text": [
      "Data has been saved to loj/#523._「LibreOJ_β_Round_#3」绯色_IOI（悬念）.json\n"
     ]
    },
    {
     "name": "stderr",
     "output_type": "stream",
     "text": [
      "  3%|▎         | 115/3353 [17:53<9:53:11, 10.99s/it]"
     ]
    },
    {
     "name": "stdout",
     "output_type": "stream",
     "text": [
      "Data has been saved to loj/#524._「LibreOJ_β_Round_#4」游戏.json\n"
     ]
    },
    {
     "name": "stderr",
     "output_type": "stream",
     "text": [
      "  3%|▎         | 116/3353 [18:04<9:55:31, 11.04s/it]"
     ]
    },
    {
     "name": "stdout",
     "output_type": "stream",
     "text": [
      "Data has been saved to loj/#525._「LibreOJ_β_Round_#4」多项式.json\n"
     ]
    },
    {
     "name": "stderr",
     "output_type": "stream",
     "text": [
      "  3%|▎         | 117/3353 [18:15<10:01:23, 11.15s/it]"
     ]
    },
    {
     "name": "stdout",
     "output_type": "stream",
     "text": [
      "Data has been saved to loj/#526._「LibreOJ_β_Round_#4」子集.json\n"
     ]
    },
    {
     "name": "stderr",
     "output_type": "stream",
     "text": [
      "  4%|▎         | 118/3353 [18:27<10:12:07, 11.35s/it]"
     ]
    },
    {
     "name": "stdout",
     "output_type": "stream",
     "text": [
      "Data has been saved to loj/#527._「LibreOJ_β_Round_#4」框架.json\n"
     ]
    },
    {
     "name": "stderr",
     "output_type": "stream",
     "text": [
      "  4%|▎         | 119/3353 [18:38<10:03:35, 11.20s/it]"
     ]
    },
    {
     "name": "stdout",
     "output_type": "stream",
     "text": [
      "Data has been saved to loj/#528._「LibreOJ_β_Round_#4」求和.json\n"
     ]
    },
    {
     "name": "stderr",
     "output_type": "stream",
     "text": [
      "  4%|▎         | 120/3353 [18:49<10:08:15, 11.29s/it]"
     ]
    },
    {
     "name": "stdout",
     "output_type": "stream",
     "text": [
      "Data has been saved to loj/#529._「LibreOJ_β_Round_#5」自然语言.json\n"
     ]
    },
    {
     "name": "stderr",
     "output_type": "stream",
     "text": [
      "  4%|▎         | 121/3353 [19:02<10:24:50, 11.60s/it]"
     ]
    },
    {
     "name": "stdout",
     "output_type": "stream",
     "text": [
      "Data has been saved to loj/#530._「LibreOJ_β_Round_#5」最小倍数.json\n"
     ]
    },
    {
     "name": "stderr",
     "output_type": "stream",
     "text": [
      "  4%|▎         | 122/3353 [19:27<14:09:50, 15.78s/it]"
     ]
    },
    {
     "name": "stdout",
     "output_type": "stream",
     "text": [
      "Data has been saved to loj/#531._「LibreOJ_β_Round_#5」游戏.json\n"
     ]
    },
    {
     "name": "stderr",
     "output_type": "stream",
     "text": [
      "  4%|▎         | 123/3353 [19:40<13:17:26, 14.81s/it]"
     ]
    },
    {
     "name": "stdout",
     "output_type": "stream",
     "text": [
      "Data has been saved to loj/#532._「LibreOJ_β_Round_#5」随机数列.json\n"
     ]
    },
    {
     "name": "stderr",
     "output_type": "stream",
     "text": [
      "  4%|▎         | 124/3353 [19:52<12:28:34, 13.91s/it]"
     ]
    },
    {
     "name": "stdout",
     "output_type": "stream",
     "text": [
      "Data has been saved to loj/#533._「LibreOJ_Round_#6」花煎.json\n"
     ]
    },
    {
     "name": "stderr",
     "output_type": "stream",
     "text": [
      "  4%|▎         | 125/3353 [20:03<11:49:43, 13.19s/it]"
     ]
    },
    {
     "name": "stdout",
     "output_type": "stream",
     "text": [
      "Data has been saved to loj/#534._「LibreOJ_Round_#6」花团.json\n"
     ]
    },
    {
     "name": "stderr",
     "output_type": "stream",
     "text": [
      "  4%|▍         | 126/3353 [20:15<11:28:36, 12.80s/it]"
     ]
    },
    {
     "name": "stdout",
     "output_type": "stream",
     "text": [
      "Data has been saved to loj/#535._「LibreOJ_Round_#6」花火.json\n"
     ]
    },
    {
     "name": "stderr",
     "output_type": "stream",
     "text": [
      "  4%|▍         | 127/3353 [20:27<11:11:07, 12.48s/it]"
     ]
    },
    {
     "name": "stdout",
     "output_type": "stream",
     "text": [
      "Data has been saved to loj/#536._「LibreOJ_Round_#6」花札.json\n"
     ]
    },
    {
     "name": "stderr",
     "output_type": "stream",
     "text": [
      "  4%|▍         | 128/3353 [20:38<10:51:40, 12.12s/it]"
     ]
    },
    {
     "name": "stdout",
     "output_type": "stream",
     "text": [
      "Data has been saved to loj/#537._「LibreOJ_NOIP_Round_#1」DNA_序列.json\n"
     ]
    },
    {
     "name": "stderr",
     "output_type": "stream",
     "text": [
      "  4%|▍         | 129/3353 [20:50<10:42:39, 11.96s/it]"
     ]
    },
    {
     "name": "stdout",
     "output_type": "stream",
     "text": [
      "Data has been saved to loj/#538._「LibreOJ_NOIP_Round_#1」数列递推.json\n"
     ]
    },
    {
     "name": "stderr",
     "output_type": "stream",
     "text": [
      "  4%|▍         | 130/3353 [21:06<11:59:40, 13.40s/it]"
     ]
    },
    {
     "name": "stdout",
     "output_type": "stream",
     "text": [
      "Data has been saved to loj/#539._「LibreOJ_NOIP_Round_#1」旅游路线.json\n"
     ]
    },
    {
     "name": "stderr",
     "output_type": "stream",
     "text": [
      "  4%|▍         | 131/3353 [21:20<12:00:54, 13.42s/it]"
     ]
    },
    {
     "name": "stdout",
     "output_type": "stream",
     "text": [
      "Data has been saved to loj/#540._「LibreOJ_NOIP_Round_#1」游戏.json\n"
     ]
    },
    {
     "name": "stderr",
     "output_type": "stream",
     "text": [
      "  4%|▍         | 132/3353 [21:33<11:57:51, 13.37s/it]"
     ]
    },
    {
     "name": "stdout",
     "output_type": "stream",
     "text": [
      "Data has been saved to loj/#541._「LibreOJ_NOIP_Round_#1」七曜圣贤.json\n"
     ]
    },
    {
     "name": "stderr",
     "output_type": "stream",
     "text": [
      "  4%|▍         | 133/3353 [21:46<11:45:46, 13.15s/it]"
     ]
    },
    {
     "name": "stdout",
     "output_type": "stream",
     "text": [
      "Data has been saved to loj/#542._「LibreOJ_NOIP_Round_#1」序列划分.json\n"
     ]
    },
    {
     "name": "stderr",
     "output_type": "stream",
     "text": [
      "  4%|▍         | 134/3353 [21:57<11:22:04, 12.71s/it]"
     ]
    },
    {
     "name": "stdout",
     "output_type": "stream",
     "text": [
      "Data has been saved to loj/#543._「LibreOJ_β_Round_#7」奴隶主的游戏.json\n"
     ]
    },
    {
     "name": "stderr",
     "output_type": "stream",
     "text": [
      "  4%|▍         | 135/3353 [22:09<11:03:19, 12.37s/it]"
     ]
    },
    {
     "name": "stdout",
     "output_type": "stream",
     "text": [
      "Data has been saved to loj/#544._「LibreOJ_β_Round_#7」Array_Poisonous_Suffix_Problem.json\n"
     ]
    },
    {
     "name": "stderr",
     "output_type": "stream",
     "text": [
      "  4%|▍         | 136/3353 [22:21<10:56:16, 12.24s/it]"
     ]
    },
    {
     "name": "stdout",
     "output_type": "stream",
     "text": [
      "Data has been saved to loj/#545._「LibreOJ_β_Round_#7」小埋与游乐场.json\n"
     ]
    },
    {
     "name": "stderr",
     "output_type": "stream",
     "text": [
      "  4%|▍         | 137/3353 [22:33<10:49:01, 12.11s/it]"
     ]
    },
    {
     "name": "stdout",
     "output_type": "stream",
     "text": [
      "Data has been saved to loj/#546._「LibreOJ_β_Round_#7」网格图.json\n"
     ]
    },
    {
     "name": "stderr",
     "output_type": "stream",
     "text": [
      "  4%|▍         | 138/3353 [22:45<10:49:44, 12.13s/it]"
     ]
    },
    {
     "name": "stdout",
     "output_type": "stream",
     "text": [
      "Data has been saved to loj/#547._「LibreOJ_β_Round_#7」匹配字符串.json\n"
     ]
    },
    {
     "name": "stderr",
     "output_type": "stream",
     "text": [
      "  4%|▍         | 139/3353 [22:58<10:58:56, 12.30s/it]"
     ]
    },
    {
     "name": "stdout",
     "output_type": "stream",
     "text": [
      "Data has been saved to loj/#548._「LibreOJ_β_Round_#7」某少女附中的体育课.json\n"
     ]
    },
    {
     "name": "stderr",
     "output_type": "stream",
     "text": [
      "  4%|▍         | 140/3353 [23:09<10:40:30, 11.96s/it]"
     ]
    },
    {
     "name": "stdout",
     "output_type": "stream",
     "text": [
      "Data has been saved to loj/#549._「LibreOJ_β_Round_#7」康普·莱克·西提.json\n"
     ]
    },
    {
     "name": "stderr",
     "output_type": "stream",
     "text": [
      "  4%|▍         | 141/3353 [23:20<10:34:35, 11.85s/it]"
     ]
    },
    {
     "name": "stdout",
     "output_type": "stream",
     "text": [
      "Data has been saved to loj/#550._「LibreOJ_Round_#8」Matching.json\n"
     ]
    },
    {
     "name": "stderr",
     "output_type": "stream",
     "text": [
      "  4%|▍         | 142/3353 [23:32<10:29:54, 11.77s/it]"
     ]
    },
    {
     "name": "stdout",
     "output_type": "stream",
     "text": [
      "Data has been saved to loj/#551._「LibreOJ_Round_#8」Matrix.json\n"
     ]
    },
    {
     "name": "stderr",
     "output_type": "stream",
     "text": [
      "  4%|▍         | 143/3353 [23:44<10:28:58, 11.76s/it]"
     ]
    },
    {
     "name": "stdout",
     "output_type": "stream",
     "text": [
      "Data has been saved to loj/#552._「LibreOJ_Round_#8」MIN&MAX_I.json\n"
     ]
    },
    {
     "name": "stderr",
     "output_type": "stream",
     "text": [
      "  4%|▍         | 144/3353 [23:55<10:22:39, 11.64s/it]"
     ]
    },
    {
     "name": "stdout",
     "output_type": "stream",
     "text": [
      "Data has been saved to loj/#553._「LibreOJ_Round_#8」MINIM.json\n"
     ]
    },
    {
     "name": "stderr",
     "output_type": "stream",
     "text": [
      "  4%|▍         | 145/3353 [24:07<10:20:49, 11.61s/it]"
     ]
    },
    {
     "name": "stdout",
     "output_type": "stream",
     "text": [
      "Data has been saved to loj/#554._「LibreOJ_Round_#8」MIN&MAX_II.json\n"
     ]
    },
    {
     "name": "stderr",
     "output_type": "stream",
     "text": [
      "  4%|▍         | 146/3353 [24:18<10:19:39, 11.59s/it]"
     ]
    },
    {
     "name": "stdout",
     "output_type": "stream",
     "text": [
      "Data has been saved to loj/#555._「LibreOJ_Round_#8」Moejy0viiiiiv's_Red_Envelopes.json\n"
     ]
    },
    {
     "name": "stderr",
     "output_type": "stream",
     "text": [
      "  4%|▍         | 147/3353 [24:30<10:26:02, 11.72s/it]"
     ]
    },
    {
     "name": "stdout",
     "output_type": "stream",
     "text": [
      "Data has been saved to loj/#556._「Antileaf's_Round」咱们去烧菜吧.json\n"
     ]
    },
    {
     "name": "stderr",
     "output_type": "stream",
     "text": [
      "  4%|▍         | 148/3353 [24:45<11:12:17, 12.59s/it]"
     ]
    },
    {
     "name": "stdout",
     "output_type": "stream",
     "text": [
      "Data has been saved to loj/#557._「Antileaf's_Round」你这衣服租来的吗.json\n"
     ]
    },
    {
     "name": "stderr",
     "output_type": "stream",
     "text": [
      "  4%|▍         | 149/3353 [25:02<12:32:21, 14.09s/it]"
     ]
    },
    {
     "name": "stdout",
     "output_type": "stream",
     "text": [
      "Data has been saved to loj/#558._「Antileaf's_Round」我们的_CPU_遭到攻击.json\n"
     ]
    },
    {
     "name": "stderr",
     "output_type": "stream",
     "text": [
      "  4%|▍         | 150/3353 [25:18<13:05:09, 14.71s/it]"
     ]
    },
    {
     "name": "stdout",
     "output_type": "stream",
     "text": [
      "Data has been saved to loj/#559._「LibreOJ_Round_#9」ZQC_的迷宫.json\n"
     ]
    },
    {
     "name": "stderr",
     "output_type": "stream",
     "text": [
      "  5%|▍         | 151/3353 [25:31<12:30:24, 14.06s/it]"
     ]
    },
    {
     "name": "stdout",
     "output_type": "stream",
     "text": [
      "Data has been saved to loj/#560._「LibreOJ_Round_#9」Menci_的序列.json\n"
     ]
    },
    {
     "name": "stderr",
     "output_type": "stream",
     "text": [
      "  5%|▍         | 152/3353 [25:50<13:49:44, 15.55s/it]"
     ]
    },
    {
     "name": "stdout",
     "output_type": "stream",
     "text": [
      "Data has been saved to loj/#561._「LibreOJ_Round_#9」CommonAnts_的调和数.json\n"
     ]
    },
    {
     "name": "stderr",
     "output_type": "stream",
     "text": [
      "  5%|▍         | 153/3353 [26:03<13:03:37, 14.69s/it]"
     ]
    },
    {
     "name": "stdout",
     "output_type": "stream",
     "text": [
      "Data has been saved to loj/#562._「LibreOJ_Round_#9」Tangjz_的背包.json\n"
     ]
    },
    {
     "name": "stderr",
     "output_type": "stream",
     "text": [
      "  5%|▍         | 154/3353 [26:15<12:19:45, 13.87s/it]"
     ]
    },
    {
     "name": "stdout",
     "output_type": "stream",
     "text": [
      "Data has been saved to loj/#563._「LibreOJ_Round_#10」Snakes_的_Naïve_Graph.json\n"
     ]
    },
    {
     "name": "stderr",
     "output_type": "stream",
     "text": [
      "  5%|▍         | 155/3353 [26:27<11:53:00, 13.38s/it]"
     ]
    },
    {
     "name": "stdout",
     "output_type": "stream",
     "text": [
      "Data has been saved to loj/#564._「LibreOJ_Round_#10」613_的天网.json\n"
     ]
    },
    {
     "name": "stderr",
     "output_type": "stream",
     "text": [
      "  5%|▍         | 156/3353 [26:45<13:05:47, 14.75s/it]"
     ]
    },
    {
     "name": "stdout",
     "output_type": "stream",
     "text": [
      "Data has been saved to loj/#565._「LibreOJ_Round_#10」mathematican_的二进制.json\n"
     ]
    },
    {
     "name": "stderr",
     "output_type": "stream",
     "text": [
      "  5%|▍         | 157/3353 [27:02<13:49:59, 15.58s/it]"
     ]
    },
    {
     "name": "stdout",
     "output_type": "stream",
     "text": [
      "Data has been saved to loj/#566._「LibreOJ_Round_#10」yanQval_的生成树.json\n"
     ]
    },
    {
     "name": "stderr",
     "output_type": "stream",
     "text": [
      "  5%|▍         | 158/3353 [27:28<16:22:05, 18.44s/it]"
     ]
    },
    {
     "name": "stdout",
     "output_type": "stream",
     "text": [
      "Data has been saved to loj/#569._「LibreOJ_Round_#11」Misaka_Network_与测试.json\n"
     ]
    },
    {
     "name": "stderr",
     "output_type": "stream",
     "text": [
      "  5%|▍         | 159/3353 [27:43<15:31:37, 17.50s/it]"
     ]
    },
    {
     "name": "stdout",
     "output_type": "stream",
     "text": [
      "Data has been saved to loj/#570._「LibreOJ_Round_#11」Misaka_Network_与任务.json\n"
     ]
    },
    {
     "name": "stderr",
     "output_type": "stream",
     "text": [
      "  5%|▍         | 160/3353 [27:59<15:18:05, 17.25s/it]"
     ]
    },
    {
     "name": "stdout",
     "output_type": "stream",
     "text": [
      "Data has been saved to loj/#571._「LibreOJ_Round_#11」Misaka_Network_与_Accelerator.json\n"
     ]
    },
    {
     "name": "stderr",
     "output_type": "stream",
     "text": [
      "  5%|▍         | 161/3353 [28:12<13:59:27, 15.78s/it]"
     ]
    },
    {
     "name": "stdout",
     "output_type": "stream",
     "text": [
      "Data has been saved to loj/#572._「LibreOJ_Round_#11」Misaka_Network_与求和.json\n"
     ]
    },
    {
     "name": "stderr",
     "output_type": "stream",
     "text": [
      "  5%|▍         | 162/3353 [28:24<13:04:01, 14.74s/it]"
     ]
    },
    {
     "name": "stdout",
     "output_type": "stream",
     "text": [
      "Data has been saved to loj/#573._「LibreOJ_NOI_Round_#2」单枪匹马.json\n"
     ]
    },
    {
     "name": "stderr",
     "output_type": "stream",
     "text": [
      "  5%|▍         | 163/3353 [28:39<13:10:33, 14.87s/it]"
     ]
    },
    {
     "name": "stdout",
     "output_type": "stream",
     "text": [
      "Data has been saved to loj/#574._「LibreOJ_NOI_Round_#2」黄金矿工.json\n"
     ]
    },
    {
     "name": "stderr",
     "output_type": "stream",
     "text": [
      "  5%|▍         | 164/3353 [28:57<13:53:44, 15.69s/it]"
     ]
    },
    {
     "name": "stdout",
     "output_type": "stream",
     "text": [
      "Data has been saved to loj/#575._「LibreOJ_NOI_Round_#2」不等关系.json\n"
     ]
    },
    {
     "name": "stderr",
     "output_type": "stream",
     "text": [
      "  5%|▍         | 165/3353 [29:16<14:54:55, 16.84s/it]"
     ]
    },
    {
     "name": "stdout",
     "output_type": "stream",
     "text": [
      "Data has been saved to loj/#576._「LibreOJ_NOI_Round_#2」签到游戏.json\n"
     ]
    },
    {
     "name": "stderr",
     "output_type": "stream",
     "text": [
      "  5%|▍         | 166/3353 [29:30<14:05:03, 15.91s/it]"
     ]
    },
    {
     "name": "stdout",
     "output_type": "stream",
     "text": [
      "Data has been saved to loj/#577._「LibreOJ_NOI_Round_#2」简单算术.json\n"
     ]
    },
    {
     "name": "stderr",
     "output_type": "stream",
     "text": [
      "  5%|▍         | 167/3353 [29:42<12:53:15, 14.56s/it]"
     ]
    },
    {
     "name": "stdout",
     "output_type": "stream",
     "text": [
      "Data has been saved to loj/#578._「LibreOJ_NOI_Round_#2」小球进洞.json\n"
     ]
    },
    {
     "name": "stderr",
     "output_type": "stream",
     "text": [
      "  5%|▌         | 168/3353 [29:56<12:43:23, 14.38s/it]"
     ]
    },
    {
     "name": "stdout",
     "output_type": "stream",
     "text": [
      "Data has been saved to loj/#579._「LibreOJ_NOI_Round_#2」笔试.json\n"
     ]
    },
    {
     "name": "stderr",
     "output_type": "stream",
     "text": [
      "  5%|▌         | 169/3353 [30:07<12:02:56, 13.62s/it]"
     ]
    },
    {
     "name": "stdout",
     "output_type": "stream",
     "text": [
      "Data has been saved to loj/#2000._「SDOI2017」数字表格.json\n"
     ]
    },
    {
     "name": "stderr",
     "output_type": "stream",
     "text": [
      "  5%|▌         | 170/3353 [30:19<11:32:36, 13.06s/it]"
     ]
    },
    {
     "name": "stdout",
     "output_type": "stream",
     "text": [
      "Data has been saved to loj/#2001._「SDOI2017」树点涂色.json\n"
     ]
    },
    {
     "name": "stderr",
     "output_type": "stream",
     "text": [
      "  5%|▌         | 171/3353 [30:32<11:25:18, 12.92s/it]"
     ]
    },
    {
     "name": "stdout",
     "output_type": "stream",
     "text": [
      "Data has been saved to loj/#2002._「SDOI2017」序列计数.json\n"
     ]
    },
    {
     "name": "stderr",
     "output_type": "stream",
     "text": [
      "  5%|▌         | 172/3353 [30:44<11:08:17, 12.61s/it]"
     ]
    },
    {
     "name": "stdout",
     "output_type": "stream",
     "text": [
      "Data has been saved to loj/#2003._「SDOI2017」新生舞会.json\n"
     ]
    },
    {
     "name": "stderr",
     "output_type": "stream",
     "text": [
      "  5%|▌         | 173/3353 [30:56<10:58:18, 12.42s/it]"
     ]
    },
    {
     "name": "stdout",
     "output_type": "stream",
     "text": [
      "Data has been saved to loj/#2004._「SDOI2017」硬币游戏.json\n"
     ]
    },
    {
     "name": "stderr",
     "output_type": "stream",
     "text": [
      "  5%|▌         | 174/3353 [31:08<11:05:01, 12.55s/it]"
     ]
    },
    {
     "name": "stdout",
     "output_type": "stream",
     "text": [
      "Data has been saved to loj/#2005._「SDOI2017」相关分析.json\n"
     ]
    },
    {
     "name": "stderr",
     "output_type": "stream",
     "text": [
      "  5%|▌         | 175/3353 [31:21<11:10:22, 12.66s/it]"
     ]
    },
    {
     "name": "stdout",
     "output_type": "stream",
     "text": [
      "Data has been saved to loj/#2006._「SCOI2015」小凸玩矩阵.json\n"
     ]
    },
    {
     "name": "stderr",
     "output_type": "stream",
     "text": [
      "  5%|▌         | 176/3353 [31:34<11:10:40, 12.67s/it]"
     ]
    },
    {
     "name": "stdout",
     "output_type": "stream",
     "text": [
      "Data has been saved to loj/#2007._「SCOI2015」国旗计划.json\n"
     ]
    },
    {
     "name": "stderr",
     "output_type": "stream",
     "text": [
      "  5%|▌         | 177/3353 [31:47<11:07:20, 12.61s/it]"
     ]
    },
    {
     "name": "stdout",
     "output_type": "stream",
     "text": [
      "Data has been saved to loj/#2008._「SCOI2015」小凸想跑步.json\n"
     ]
    },
    {
     "name": "stderr",
     "output_type": "stream",
     "text": [
      "  5%|▌         | 178/3353 [31:58<10:53:18, 12.35s/it]"
     ]
    },
    {
     "name": "stdout",
     "output_type": "stream",
     "text": [
      "Data has been saved to loj/#2009._「SCOI2015」小凸玩密室.json\n"
     ]
    },
    {
     "name": "stderr",
     "output_type": "stream",
     "text": [
      "  5%|▌         | 179/3353 [32:10<10:43:38, 12.17s/it]"
     ]
    },
    {
     "name": "stdout",
     "output_type": "stream",
     "text": [
      "Data has been saved to loj/#2010._「SCOI2015」小凸解密码.json\n"
     ]
    },
    {
     "name": "stderr",
     "output_type": "stream",
     "text": [
      "  5%|▌         | 180/3353 [32:22<10:42:34, 12.15s/it]"
     ]
    },
    {
     "name": "stdout",
     "output_type": "stream",
     "text": [
      "Data has been saved to loj/#2011._「SCOI2015」情报传递.json\n"
     ]
    },
    {
     "name": "stderr",
     "output_type": "stream",
     "text": [
      "  5%|▌         | 181/3353 [32:34<10:36:44, 12.04s/it]"
     ]
    },
    {
     "name": "stdout",
     "output_type": "stream",
     "text": [
      "Data has been saved to loj/#2012._「SCOI2016」背单词.json\n"
     ]
    },
    {
     "name": "stderr",
     "output_type": "stream",
     "text": [
      "  5%|▌         | 182/3353 [32:46<10:37:50, 12.07s/it]"
     ]
    },
    {
     "name": "stdout",
     "output_type": "stream",
     "text": [
      "Data has been saved to loj/#2013._「SCOI2016」幸运数字.json\n"
     ]
    },
    {
     "name": "stderr",
     "output_type": "stream",
     "text": [
      "  5%|▌         | 183/3353 [32:58<10:42:43, 12.17s/it]"
     ]
    },
    {
     "name": "stdout",
     "output_type": "stream",
     "text": [
      "Data has been saved to loj/#2014._「SCOI2016」萌萌哒.json\n"
     ]
    },
    {
     "name": "stderr",
     "output_type": "stream",
     "text": [
      "  5%|▌         | 184/3353 [33:11<10:49:43, 12.30s/it]"
     ]
    },
    {
     "name": "stdout",
     "output_type": "stream",
     "text": [
      "Data has been saved to loj/#2015._「SCOI2016」妖怪.json\n"
     ]
    },
    {
     "name": "stderr",
     "output_type": "stream",
     "text": [
      "  6%|▌         | 185/3353 [33:24<11:05:59, 12.61s/it]"
     ]
    },
    {
     "name": "stdout",
     "output_type": "stream",
     "text": [
      "Data has been saved to loj/#2016._「SCOI2016」美味.json\n"
     ]
    },
    {
     "name": "stderr",
     "output_type": "stream",
     "text": [
      "  6%|▌         | 186/3353 [33:36<10:53:32, 12.38s/it]"
     ]
    },
    {
     "name": "stdout",
     "output_type": "stream",
     "text": [
      "Data has been saved to loj/#2017._「SCOI2016」围棋.json\n"
     ]
    },
    {
     "name": "stderr",
     "output_type": "stream",
     "text": [
      "  6%|▌         | 187/3353 [33:49<10:54:09, 12.40s/it]"
     ]
    },
    {
     "name": "stdout",
     "output_type": "stream",
     "text": [
      "Data has been saved to loj/#2018._「AHOI___HNOI2017」单旋.json\n"
     ]
    },
    {
     "name": "stderr",
     "output_type": "stream",
     "text": [
      "  6%|▌         | 188/3353 [34:01<10:58:29, 12.48s/it]"
     ]
    },
    {
     "name": "stdout",
     "output_type": "stream",
     "text": [
      "Data has been saved to loj/#2019._「AHOI___HNOI2017」影魔.json\n"
     ]
    },
    {
     "name": "stderr",
     "output_type": "stream",
     "text": [
      "  6%|▌         | 189/3353 [34:14<10:57:13, 12.46s/it]"
     ]
    },
    {
     "name": "stdout",
     "output_type": "stream",
     "text": [
      "Data has been saved to loj/#2020._「AHOI___HNOI2017」礼物.json\n"
     ]
    },
    {
     "name": "stderr",
     "output_type": "stream",
     "text": [
      "  6%|▌         | 190/3353 [34:26<10:51:09, 12.35s/it]"
     ]
    },
    {
     "name": "stdout",
     "output_type": "stream",
     "text": [
      "Data has been saved to loj/#2021._「AHOI___HNOI2017」大佬.json\n"
     ]
    },
    {
     "name": "stderr",
     "output_type": "stream",
     "text": [
      "  6%|▌         | 191/3353 [34:38<10:41:09, 12.17s/it]"
     ]
    },
    {
     "name": "stdout",
     "output_type": "stream",
     "text": [
      "Data has been saved to loj/#2022._「AHOI___HNOI2017」队长快跑.json\n"
     ]
    },
    {
     "name": "stderr",
     "output_type": "stream",
     "text": [
      "  6%|▌         | 192/3353 [34:50<10:42:49, 12.20s/it]"
     ]
    },
    {
     "name": "stdout",
     "output_type": "stream",
     "text": [
      "Data has been saved to loj/#2023._「AHOI___HNOI2017」抛硬币.json\n"
     ]
    },
    {
     "name": "stderr",
     "output_type": "stream",
     "text": [
      "  6%|▌         | 193/3353 [35:05<11:35:52, 13.21s/it]"
     ]
    },
    {
     "name": "stdout",
     "output_type": "stream",
     "text": [
      "Data has been saved to loj/#2024._「JLOI___SHOI2016」侦查守卫.json\n"
     ]
    },
    {
     "name": "stderr",
     "output_type": "stream",
     "text": [
      "  6%|▌         | 194/3353 [35:22<12:32:30, 14.29s/it]"
     ]
    },
    {
     "name": "stdout",
     "output_type": "stream",
     "text": [
      "Data has been saved to loj/#2025._「JLOI___SHOI2016」方.json\n"
     ]
    },
    {
     "name": "stderr",
     "output_type": "stream",
     "text": [
      "  6%|▌         | 195/3353 [35:37<12:36:57, 14.38s/it]"
     ]
    },
    {
     "name": "stdout",
     "output_type": "stream",
     "text": [
      "Data has been saved to loj/#2026._「JLOI___SHOI2016」成绩比较.json\n"
     ]
    },
    {
     "name": "stderr",
     "output_type": "stream",
     "text": [
      "  6%|▌         | 196/3353 [35:52<12:51:04, 14.65s/it]"
     ]
    },
    {
     "name": "stdout",
     "output_type": "stream",
     "text": [
      "Data has been saved to loj/#2027._「SHOI2016」黑暗前的幻想乡.json\n"
     ]
    },
    {
     "name": "stderr",
     "output_type": "stream",
     "text": [
      "  6%|▌         | 197/3353 [36:07<12:48:12, 14.60s/it]"
     ]
    },
    {
     "name": "stdout",
     "output_type": "stream",
     "text": [
      "Data has been saved to loj/#2028._「SHOI2016」随机序列.json\n"
     ]
    },
    {
     "name": "stderr",
     "output_type": "stream",
     "text": [
      "  6%|▌         | 198/3353 [36:25<13:41:51, 15.63s/it]"
     ]
    },
    {
     "name": "stdout",
     "output_type": "stream",
     "text": [
      "Data has been saved to loj/#2030._「SDOI2016」储能表.json\n"
     ]
    },
    {
     "name": "stderr",
     "output_type": "stream",
     "text": [
      "  6%|▌         | 199/3353 [36:38<12:58:25, 14.81s/it]"
     ]
    },
    {
     "name": "stdout",
     "output_type": "stream",
     "text": [
      "Data has been saved to loj/#2031._「SDOI2016」数字配对.json\n"
     ]
    },
    {
     "name": "stderr",
     "output_type": "stream",
     "text": [
      "  6%|▌         | 200/3353 [36:52<12:47:06, 14.60s/it]"
     ]
    },
    {
     "name": "stdout",
     "output_type": "stream",
     "text": [
      "Data has been saved to loj/#2032._「SDOI2016」游戏.json\n"
     ]
    },
    {
     "name": "stderr",
     "output_type": "stream",
     "text": [
      "  6%|▌         | 201/3353 [37:05<12:22:29, 14.13s/it]"
     ]
    },
    {
     "name": "stdout",
     "output_type": "stream",
     "text": [
      "Data has been saved to loj/#2033._「SDOI2016」生成魔咒.json\n"
     ]
    },
    {
     "name": "stderr",
     "output_type": "stream",
     "text": [
      "  6%|▌         | 202/3353 [37:17<11:45:41, 13.44s/it]"
     ]
    },
    {
     "name": "stdout",
     "output_type": "stream",
     "text": [
      "Data has been saved to loj/#2034._「SDOI2016」排列计数.json\n"
     ]
    },
    {
     "name": "stderr",
     "output_type": "stream",
     "text": [
      "  6%|▌         | 203/3353 [37:29<11:32:05, 13.18s/it]"
     ]
    },
    {
     "name": "stdout",
     "output_type": "stream",
     "text": [
      "Data has been saved to loj/#2035._「SDOI2016」征途.json\n"
     ]
    },
    {
     "name": "stderr",
     "output_type": "stream",
     "text": [
      "  6%|▌         | 204/3353 [37:42<11:19:40, 12.95s/it]"
     ]
    },
    {
     "name": "stdout",
     "output_type": "stream",
     "text": [
      "Data has been saved to loj/#2036._「SHOI2015」自动刷题机.json\n"
     ]
    },
    {
     "name": "stderr",
     "output_type": "stream",
     "text": [
      "  6%|▌         | 205/3353 [37:54<11:11:54, 12.81s/it]"
     ]
    },
    {
     "name": "stdout",
     "output_type": "stream",
     "text": [
      "Data has been saved to loj/#2037._「SHOI2015」脑洞治疗仪.json\n"
     ]
    },
    {
     "name": "stderr",
     "output_type": "stream",
     "text": [
      "  6%|▌         | 206/3353 [38:07<11:09:42, 12.77s/it]"
     ]
    },
    {
     "name": "stdout",
     "output_type": "stream",
     "text": [
      "Data has been saved to loj/#2038._「SHOI2015」超能粒子炮・改.json\n"
     ]
    },
    {
     "name": "stderr",
     "output_type": "stream",
     "text": [
      "  6%|▌         | 207/3353 [38:19<10:57:52, 12.55s/it]"
     ]
    },
    {
     "name": "stdout",
     "output_type": "stream",
     "text": [
      "Data has been saved to loj/#2039._「SHOI2015」激光发生器.json\n"
     ]
    },
    {
     "name": "stderr",
     "output_type": "stream",
     "text": [
      "  6%|▌         | 208/3353 [38:31<10:55:19, 12.50s/it]"
     ]
    },
    {
     "name": "stdout",
     "output_type": "stream",
     "text": [
      "Data has been saved to loj/#2040._「SHOI2015」零件组装机.json\n"
     ]
    },
    {
     "name": "stderr",
     "output_type": "stream",
     "text": [
      "  6%|▌         | 209/3353 [38:45<11:14:32, 12.87s/it]"
     ]
    },
    {
     "name": "stdout",
     "output_type": "stream",
     "text": [
      "Data has been saved to loj/#2041._「SHOI2015」聚变反应炉.json\n"
     ]
    },
    {
     "name": "stderr",
     "output_type": "stream",
     "text": [
      "  6%|▋         | 210/3353 [39:16<16:01:10, 18.35s/it]"
     ]
    },
    {
     "name": "stdout",
     "output_type": "stream",
     "text": [
      "Data has been saved to loj/#2042._「CQOI2016」不同的最小割.json\n"
     ]
    },
    {
     "name": "stderr",
     "output_type": "stream",
     "text": [
      "  6%|▋         | 211/3353 [39:45<18:52:12, 21.62s/it]"
     ]
    },
    {
     "name": "stdout",
     "output_type": "stream",
     "text": [
      "Data has been saved to loj/#2043._「CQOI2016」K_远点对.json\n"
     ]
    },
    {
     "name": "stderr",
     "output_type": "stream",
     "text": [
      "  6%|▋         | 212/3353 [40:14<20:47:54, 23.84s/it]"
     ]
    },
    {
     "name": "stdout",
     "output_type": "stream",
     "text": [
      "Data has been saved to loj/#2044._「CQOI2016」手机号码.json\n"
     ]
    },
    {
     "name": "stderr",
     "output_type": "stream",
     "text": [
      "  6%|▋         | 213/3353 [40:40<21:22:34, 24.51s/it]"
     ]
    },
    {
     "name": "stdout",
     "output_type": "stream",
     "text": [
      "Data has been saved to loj/#2045._「CQOI2016」密钥破解.json\n"
     ]
    },
    {
     "name": "stderr",
     "output_type": "stream",
     "text": [
      "  6%|▋         | 214/3353 [41:24<26:29:58, 30.39s/it]"
     ]
    },
    {
     "name": "stdout",
     "output_type": "stream",
     "text": [
      "Data has been saved to loj/#2046._「CQOI2016」路由表.json\n"
     ]
    },
    {
     "name": "stderr",
     "output_type": "stream",
     "text": [
      "  6%|▋         | 215/3353 [41:51<25:37:20, 29.39s/it]"
     ]
    },
    {
     "name": "stdout",
     "output_type": "stream",
     "text": [
      "Data has been saved to loj/#2047._「CQOI2016」伪光滑数.json\n"
     ]
    },
    {
     "name": "stderr",
     "output_type": "stream",
     "text": [
      "  6%|▋         | 216/3353 [42:28<27:21:13, 31.39s/it]"
     ]
    },
    {
     "name": "stdout",
     "output_type": "stream",
     "text": [
      "Data has been saved to loj/#2048._「HNOI2016」最小公倍数.json\n"
     ]
    },
    {
     "name": "stderr",
     "output_type": "stream",
     "text": [
      "  6%|▋         | 217/3353 [43:11<30:25:08, 34.92s/it]"
     ]
    },
    {
     "name": "stdout",
     "output_type": "stream",
     "text": [
      "Data has been saved to loj/#2049._「HNOI2016」网络.json\n"
     ]
    },
    {
     "name": "stderr",
     "output_type": "stream",
     "text": [
      "  7%|▋         | 218/3353 [44:12<37:11:39, 42.71s/it]"
     ]
    },
    {
     "name": "stdout",
     "output_type": "stream",
     "text": [
      "Data has been saved to loj/#2050._「HNOI2016」树.json\n"
     ]
    },
    {
     "name": "stderr",
     "output_type": "stream",
     "text": [
      "  7%|▋         | 219/3353 [44:45<34:50:10, 40.02s/it]"
     ]
    },
    {
     "name": "stdout",
     "output_type": "stream",
     "text": [
      "Data has been saved to loj/#2051._「HNOI2016」序列.json\n"
     ]
    },
    {
     "name": "stderr",
     "output_type": "stream",
     "text": [
      "  7%|▋         | 220/3353 [45:31<36:14:31, 41.64s/it]"
     ]
    },
    {
     "name": "stdout",
     "output_type": "stream",
     "text": [
      "Data has been saved to loj/#2052._「HNOI2016」矿区.json\n"
     ]
    },
    {
     "name": "stderr",
     "output_type": "stream",
     "text": [
      "  7%|▋         | 221/3353 [46:21<38:35:53, 44.37s/it]"
     ]
    },
    {
     "name": "stdout",
     "output_type": "stream",
     "text": [
      "Data has been saved to loj/#2053._「HNOI2016」大数.json\n"
     ]
    }
   ],
   "source": [
    "import json\n",
    "import os\n",
    "from tqdm import tqdm\n",
    "problems = json.load(open(\"problems.json\",\"r\"))\n",
    "for problem in tqdm(problems):\n",
    "\n",
    "\turl = problem[\"Link\"]\n",
    "\t# print(url)\n",
    "\tdriver.get(url)\n",
    "\ttime.sleep(2)\n",
    "\tif int(problem[\"ID\"]) < 100:\n",
    "\t\tcontinue\n",
    "\ttitle_element = driver.find_element(By.CSS_SELECTOR, \"h1.ui.header._header_1rcs8_97 > span\")\n",
    "\ttitle = title_element.text.strip()\n",
    "\t\n",
    "\t# skip\n",
    "\tfile_name = f\"loj/{title.replace(' ', '_').replace(\"/\", \"_\")}.json\"\n",
    "\tif os.path.exists(file_name):\n",
    "\t\tprint(f\"Skip {title}\")\n",
    "\t\tcontinue\n",
    "\n",
    "\tlabels_section = driver.find_element(By.CSS_SELECTOR, \"div._labels_1rcs8_107\")\n",
    "\n",
    "\ttry:\n",
    "\t\tshow_tags_button = labels_section.find_element(By.CSS_SELECTOR, \"a._toggleTagsLabel_1rcs8_113\")\n",
    "\t\tshow_tags_button.click()\n",
    "\t\ttime.sleep(1)\n",
    "\texcept Exception:\n",
    "\t\tpass\n",
    "\n",
    "\tlabels = []\n",
    "\tlabels_elements = labels_section.find_elements(By.CSS_SELECTOR, \"div.ui.label, a.ui.label\")\n",
    "\tfor label in labels_elements:\n",
    "\t\tlabels.append(label.text.strip())\n",
    "\n",
    "\t# 获取样例对（输入和输出）\n",
    "\tsamples = []\n",
    "\tsample_elements = driver.find_elements(By.CLASS_NAME, \"_sampleDataPre_1rcs8_198\")\n",
    "\tcurrent_key = \"input\"\n",
    "\ttemp_dict = {}\n",
    "\tfor sample_element in sample_elements:\n",
    "\t\ttext = sample_element.text\n",
    "\t\ttemp_dict[current_key] = text\n",
    "\t\tif current_key == \"output\":\n",
    "\t\t\tsamples.append(temp_dict)\n",
    "\t\t\ttemp_dict = {}\n",
    "\t\tcurrent_key = \"output\" if current_key == \"input\" else \"input\"\n",
    "\t\n",
    "\n",
    "\t# 遍历 `_statementView_1rcs8_158` 容器中的所有子元素并提取文本\n",
    "\tstatement_container = driver.find_element(By.CSS_SELECTOR, \"div._statementView_1rcs8_158\")\n",
    "\tstatement_elements = statement_container.find_elements(By.XPATH, \"./*\")\n",
    "\n",
    "\tstatement_data = {}\n",
    "\tfor element in statement_elements:\n",
    "\t\ttag_name = element.tag_name\n",
    "\t\ttext_content = element.text.strip()\n",
    "\t\tif text_content:  # 只记录非空文本\n",
    "\t\t\tstatement_data[tag_name] = statement_data.get(tag_name, [])  # 初始化键\n",
    "\t\t\tstatement_data[tag_name].append(text_content)\n",
    "\n",
    "\n",
    "\tcontent_sections = driver.find_elements(By.CSS_SELECTOR, \"div._markdownContent_1lggv_1\")\n",
    "\tcontent = {}\n",
    "\theaders = driver.find_elements(By.CSS_SELECTOR, \"div.ui.large.header\")\n",
    "\tfor i, section in enumerate(content_sections):\n",
    "\t\theader_text = headers[i].text.strip() if i < len(headers) else f\"Section {i+1}\"\n",
    "\t\tcontent[header_text] = section.text.strip()\n",
    "\n",
    "\tproblem_data = {\n",
    "\t\t\"ID\": problem[\"ID\"],\n",
    "\t\t\"title\": title,\n",
    "\t\t\"labels\": labels,\n",
    "\t\t\"samples\": samples,\n",
    "\t\t\"content\": content,\n",
    "\t\t\"submissions\": problem[\"Submissions\"],\n",
    "\t\t\"acceptance\": problem[\"Acceptance\"],\n",
    "\t}\n",
    "\n",
    "\tdriver.get(f\"{url}/files\")\n",
    "\ttime.sleep(2)\n",
    "\n",
    "\t# Download test cases\n",
    "\tcheck_all_checkbox = driver.find_element(By.XPATH, \"/html/body/div[1]/div[4]/div/div[1]/div/table/thead/tr/th[1]/div\")\n",
    "\tif not check_all_checkbox.is_selected():\n",
    "\t\tcheck_all_checkbox.click()\n",
    "\t\ttime.sleep(1)\n",
    "\ttime.sleep(1)\n",
    "\tdownload_button = driver.find_element(By.XPATH, \"/html/body/div[1]/div[4]/div/div[1]/div/table/tfoot/tr/th/div/div/div\")\n",
    "\tdownload_button.click()\n",
    "\ttime.sleep(1)\n",
    "\tdownload_button = driver.find_element(By.CSS_SELECTOR, \"div.menu.transition.visible._fileTableSelectedFilesDropdownMenu_r2613_51 div.item\")\n",
    "\tdriver.execute_script(\"arguments[0].click();\", download_button)\n",
    "\n",
    "\tfile_name = f\"TestData_#{problem[\"ID\"]}.zip\"\n",
    "\twhile True:\n",
    "\t\tif file_name in os.listdir(download_dir):\n",
    "\t\t\tbreak\n",
    "\t\ttime.sleep(1)\n",
    "\n",
    "\toutput_file = f\"loj/{title.replace(' ', '_').replace(\"/\",\"_\")}.json\"\n",
    "\twith open(output_file, \"w\", encoding=\"utf-8\") as f:\n",
    "\t\tjson.dump(problem_data, f, ensure_ascii=False, indent=4)\n",
    "\n",
    "\timport os\n",
    "\n",
    "\tcurrent_directory = os.getcwd()\n",
    "\ttotal_size = 0\n",
    "\n",
    "\tfor filename in os.listdir(current_directory):\n",
    "\t\tfile_path = os.path.join(current_directory, filename)\n",
    "\t\t\n",
    "\t\tif os.path.isfile(file_path):\n",
    "\t\t\tfile_size = os.path.getsize(file_path)\n",
    "\t\t\ttotal_size += file_size\n",
    "\n",
    "\tif total_size / 1024**3 > 500:\n",
    "\t\t# exit\n",
    "\t\tbreak\n",
    "\n",
    "\tprint(f\"Data has been saved to {output_file}\")"
   ]
  },
  {
   "cell_type": "code",
   "execution_count": null,
   "metadata": {},
   "outputs": [],
   "source": [
    "import os\n",
    "\n",
    "current_directory = os.getcwd()\n",
    "total_size = 0\n",
    "\n",
    "for filename in os.listdir(current_directory):\n",
    "\tfile_path = os.path.join(current_directory, filename)\n",
    "\t\n",
    "\tif os.path.isfile(file_path):\n",
    "\t\tfile_size = os.path.getsize(file_path)\n",
    "\t\ttotal_size += file_size\n",
    "\n",
    "print(f\"Total size of all files: {total_size / 1024:.2f} KB, {total_size / 1024**2:.2f} MB, {total_size / 1024**3:.2f} GB\")"
   ]
  },
  {
   "cell_type": "code",
   "execution_count": null,
   "metadata": {},
   "outputs": [],
   "source": [
    "driver.get(\"https://loj.ac/p/110\")\n",
    "time.sleep(4)"
   ]
  },
  {
   "cell_type": "code",
   "execution_count": null,
   "metadata": {},
   "outputs": [],
   "source": [
    "data_element = driver.find_elements(By.CLASS_NAME, \"_sampleDataPre_1rcs8_198\")\n",
    "for i in data_element:\n",
    "    extracted_text = i.text  # 提取文本内容\n",
    "    print(extracted_text)"
   ]
  },
  {
   "cell_type": "code",
   "execution_count": null,
   "metadata": {},
   "outputs": [],
   "source": [
    "driver.quit()"
   ]
  }
 ],
 "metadata": {
  "kernelspec": {
   "display_name": "base",
   "language": "python",
   "name": "python3"
  },
  "language_info": {
   "codemirror_mode": {
    "name": "ipython",
    "version": 3
   },
   "file_extension": ".py",
   "mimetype": "text/x-python",
   "name": "python",
   "nbconvert_exporter": "python",
   "pygments_lexer": "ipython3",
   "version": "3.12.7"
  }
 },
 "nbformat": 4,
 "nbformat_minor": 2
}
