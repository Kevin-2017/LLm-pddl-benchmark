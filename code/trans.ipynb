{
 "cells": [
  {
   "cell_type": "code",
   "execution_count": 22,
   "metadata": {},
   "outputs": [],
   "source": [
    "import sys\n",
    "import os\n",
    "sys.path.append(os.path.abspath(\"..\"))\n",
    "import json\n",
    "import time\n",
    "import llm_plan_bench as lpb\n",
    "import regex\n",
    "# Regex pattern for recursive matching\n",
    "json_pattern = regex.compile(r'\\{(?:[^{}]|(?R))*\\}', regex.DOTALL)\n",
    "model = lpb.BlackboxLLM(\"gpt-4o-mini\")"
   ]
  },
  {
   "cell_type": "code",
   "execution_count": 29,
   "metadata": {},
   "outputs": [],
   "source": [
    "import json, regex\n",
    "json_pattern = regex.compile(r'\\{(?:[^{}]|(?R))*\\}', regex.DOTALL)\n",
    "def get_translation(content):\n",
    "    content = model(f\"Translate All the Chinese characters in this string into english (this is a json file, you should translate both the keys and the values): <start>{content}<end> The result should be a json object with a single key 'translation' and a string value as the translation. You can only output english.\")\n",
    "    # print(content)\n",
    "    try:\n",
    "        matches = json_pattern.findall(content)\n",
    "        for match in matches:\n",
    "            try:\n",
    "                parsed_json = json.loads(match)\n",
    "            except Exception as e:\n",
    "                print(\"Invalid JSON Found:\", match)\n",
    "        translation = parsed_json[\"translation\"]\n",
    "    except Exception as e:\n",
    "        print(e)\n",
    "    try:\n",
    "        return translation\n",
    "    except Exception as e:\n",
    "        print(e)\n",
    "        return None"
   ]
  },
  {
   "cell_type": "code",
   "execution_count": null,
   "metadata": {},
   "outputs": [
    {
     "name": "stderr",
     "output_type": "stream",
     "text": [
      " 70%|███████   | 56/80 [12:09<08:27, 21.15s/it]"
     ]
    },
    {
     "name": "stdout",
     "output_type": "stream",
     "text": [
      "Invalid JSON Found: {A\\\\subseteq E}\n",
      "Invalid JSON Found: {k(A)-k(E)}\n",
      "Invalid JSON Found: {k(A)+|A|-|V|}\n",
      "Invalid JSON Found: {|E|}\n",
      "Invalid JSON Found: {|V|-k(E)}\n",
      "Invalid JSON Found: {k(E)}\n",
      "Invalid JSON Found: {|E|-|V|+k(E)}\n",
      "Invalid JSON Found: {0, 1, \\\\ldots, n-1\\\\}\n",
      "Invalid JSON Found: {i, 0}\n",
      "Invalid JSON Found: {i, 1}\n",
      "Invalid JSON Found: {i, n-1}\n",
      "Invalid JSON Found: {i, j}\n",
      "Invalid JSON Found: {i, j}\n",
      "Invalid JSON Found: {0, 1\\\\}\n",
      "Invalid JSON Found: {i, j}\n",
      "Invalid JSON Found: {j, i}\n",
      "Invalid JSON Found: {i, i}\n",
      "'translation'\n",
      "cannot access local variable 'translation' where it is not associated with a value\n",
      "Failed to translate #155._Tutte_多项式.json\n"
     ]
    },
    {
     "name": "stderr",
     "output_type": "stream",
     "text": [
      "100%|██████████| 80/80 [18:34<00:00, 13.93s/it]\n",
      "  0%|          | 0/244 [00:00<?, ?it/s]"
     ]
    },
    {
     "name": "stdout",
     "output_type": "stream",
     "text": [
      "Invalid JSON Found: {A\\\\subseteq E}\n",
      "Invalid JSON Found: {k(A)-k(E)}\n",
      "Invalid JSON Found: {k(A)+|A|-|V|}\n",
      "Invalid JSON Found: {|E|}\n",
      "Invalid JSON Found: {|V|-k(E)}\n",
      "Invalid JSON Found: {k(E)}\n",
      "Invalid JSON Found: {|E|-|V|+k(E)}\n",
      "Invalid JSON Found: {0, 1, \\\\ldots, n-1\\\\}\n",
      "Invalid JSON Found: {i, 0}\n",
      "Invalid JSON Found: {i, 1}\n",
      "Invalid JSON Found: {i, n-1}\n",
      "Invalid JSON Found: {i, j}\n",
      "Invalid JSON Found: {i, j}\n",
      "Invalid JSON Found: {0, 1\\\\}\n",
      "Invalid JSON Found: {i, j}\n",
      "Invalid JSON Found: {j, i}\n",
      "Invalid JSON Found: {i, i}\n",
      "'translation'\n",
      "cannot access local variable 'translation' where it is not associated with a value\n",
      "Failed to translate #155._Tutte_多项式.json\n"
     ]
    },
    {
     "name": "stderr",
     "output_type": "stream",
     "text": [
      " 69%|██████▉   | 169/244 [05:24<23:41, 18.95s/it]"
     ]
    },
    {
     "name": "stdout",
     "output_type": "stream",
     "text": [
      "Invalid JSON Found: {NIL}\n",
      "Invalid JSON Found: {NIL}\n",
      "Invalid JSON Found: {NIL}\n",
      "Invalid JSON Found: {NIL}\n",
      "Invalid JSON Found: {NIL}\n",
      "Invalid JSON Found: {cases}\n",
      "Invalid JSON Found: {NIL}\n",
      "Invalid JSON Found: {NIL}\n",
      "Invalid JSON Found: {cases}\n",
      "'translation'\n",
      "cannot access local variable 'translation' where it is not associated with a value\n",
      "Failed to translate #502._「LibreOJ_β_Round」ZQC_的截图.json\n"
     ]
    },
    {
     "name": "stderr",
     "output_type": "stream",
     "text": [
      " 72%|███████▏  | 175/244 [08:01<29:38, 25.78s/it]"
     ]
    },
    {
     "name": "stdout",
     "output_type": "stream",
     "text": [
      "Invalid JSON Found: {i+1}\n",
      "Invalid JSON Found: {1 u v w}\n",
      "Invalid JSON Found: {2 u v x b c}\n",
      "'translation'\n",
      "cannot access local variable 'translation' where it is not associated with a value\n",
      "Failed to translate #508._「LibreOJ_NOI_Round_#1」失控的未来交通工具.json\n"
     ]
    },
    {
     "name": "stderr",
     "output_type": "stream",
     "text": [
      " 73%|███████▎  | 177/244 [08:58<29:48, 26.69s/it]"
     ]
    },
    {
     "name": "stdout",
     "output_type": "stream",
     "text": [
      "Invalid JSON Found: {lowbit}\n",
      "Invalid JSON Found: {lowbit}\n",
      "Invalid JSON Found: {(5)}\n",
      "Invalid JSON Found: {(5)}\n",
      "Invalid JSON Found: {(10)}\n",
      "Invalid JSON Found: {lowbitv}\n",
      "Invalid JSON Found: {lowbitv}\n",
      "Invalid JSON Found: {(5)}\n",
      "Invalid JSON Found: {(5)}\n",
      "Invalid JSON Found: {(10)}\n",
      "Invalid JSON Found: {\\\\oplus}\n",
      "Invalid JSON Found: {i\\\\in (s[i]-\\\\mathrm{lowbit}(s[i]),s[i]]}\n",
      "'translation'\n",
      "cannot access local variable 'translation' where it is not associated with a value\n",
      "Failed to translate #510._「LibreOJ_NOI_Round_#1」北校门外的回忆.json\n"
     ]
    },
    {
     "name": "stderr",
     "output_type": "stream",
     "text": [
      " 73%|███████▎  | 179/244 [09:58<31:30, 29.09s/it]"
     ]
    },
    {
     "name": "stdout",
     "output_type": "stream",
     "text": [
      "Invalid JSON Found: {B,A_1,A_2,...,A_k\\\\}\n",
      "Invalid JSON Found: {u_{2,i}\\\\in S,v_{2,i}\\\\in S}\n",
      "Invalid JSON Found: {2,i}\n",
      "Invalid JSON Found: {i=1}\n",
      "Invalid JSON Found: {A_i}\n",
      "Invalid JSON Found: {u_{1,i}\\\\in S,v_{1,i}\\\\in S}\n",
      "Invalid JSON Found: {1,i}\n",
      "Invalid JSON Found: {i, j}\n",
      "Invalid JSON Found: {i, j}\n",
      "Invalid JSON Found: {\\\\{3\\\\}, \\\\{1, 2, 4\\\\}\\\\}\n",
      "Invalid JSON Found: {max}\n",
      "Invalid JSON Found: {\\\\{1, 3\\\\}, \\\\{2, 4\\\\}\\\\}\n",
      "Invalid JSON Found: {max}\n",
      "Invalid JSON Found: {ans}\n",
      "Invalid JSON Found: {30}\n",
      "Invalid JSON Found: {i=1}\n",
      "Invalid JSON Found: {10}\n",
      "'translation'\n",
      "cannot access local variable 'translation' where it is not associated with a value\n",
      "Failed to translate #512._「LibreOJ_NOI_Round_#1」春游.json\n"
     ]
    },
    {
     "name": "stderr",
     "output_type": "stream",
     "text": [
      " 74%|███████▍  | 180/244 [10:19<28:36, 26.83s/it]"
     ]
    },
    {
     "name": "stdout",
     "output_type": "stream",
     "text": [
      "cannot access local variable 'parsed_json' where it is not associated with a value\n",
      "cannot access local variable 'translation' where it is not associated with a value\n",
      "Failed to translate #513._「LibreOJ_NOI_Round_#1」笔试.json\n"
     ]
    },
    {
     "name": "stderr",
     "output_type": "stream",
     "text": [
      " 77%|███████▋  | 188/244 [12:25<21:35, 23.13s/it]"
     ]
    },
    {
     "name": "stdout",
     "output_type": "stream",
     "text": [
      "'translation'\n",
      "cannot access local variable 'translation' where it is not associated with a value\n",
      "Failed to translate #521._「LibreOJ_β_Round_#3」绯色_IOI（抵达）.json\n"
     ]
    },
    {
     "name": "stderr",
     "output_type": "stream",
     "text": [
      " 77%|███████▋  | 189/244 [12:47<20:50, 22.74s/it]"
     ]
    },
    {
     "name": "stdout",
     "output_type": "stream",
     "text": [
      "Invalid JSON Found: {i+1}\n",
      "Invalid JSON Found: {i+1}\n",
      "Invalid JSON Found: {i=1}\n",
      "Invalid JSON Found: {n-1}\n",
      "Invalid JSON Found: {a_i}\n",
      "Invalid JSON Found: {a_{i+1}}\n",
      "'translation'\n",
      "cannot access local variable 'translation' where it is not associated with a value\n",
      "Failed to translate #522._「LibreOJ_β_Round_#3」绯色_IOI（危机）.json\n"
     ]
    },
    {
     "name": "stderr",
     "output_type": "stream",
     "text": [
      " 78%|███████▊  | 190/244 [13:51<31:43, 35.24s/it]"
     ]
    },
    {
     "name": "stdout",
     "output_type": "stream",
     "text": [
      "'translation'\n",
      "cannot access local variable 'translation' where it is not associated with a value\n",
      "Failed to translate #523._「LibreOJ_β_Round_#3」绯色_IOI（悬念）.json\n"
     ]
    },
    {
     "name": "stderr",
     "output_type": "stream",
     "text": [
      " 82%|████████▏ | 201/244 [17:50<20:55, 29.19s/it]"
     ]
    },
    {
     "name": "stdout",
     "output_type": "stream",
     "text": [
      "Invalid JSON Found: {1 v w e}\n",
      "Invalid JSON Found: {2 v}\n",
      "Invalid JSON Found: {maxv}\n",
      "Invalid JSON Found: {lastans}\n",
      "Invalid JSON Found: {lastans}\n",
      "Invalid JSON Found: {lastans}\n",
      "Invalid JSON Found: {op}\n",
      "Invalid JSON Found: {maxw}\n",
      "Invalid JSON Found: {maxw}\n",
      "Invalid JSON Found: {maxw}\n",
      "'translation'\n",
      "cannot access local variable 'translation' where it is not associated with a value\n",
      "Failed to translate #534._「LibreOJ_Round_#6」花团.json\n"
     ]
    },
    {
     "name": "stderr",
     "output_type": "stream",
     "text": [
      " 83%|████████▎ | 203/244 [18:41<18:46, 27.48s/it]"
     ]
    },
    {
     "name": "stdout",
     "output_type": "stream",
     "text": [
      "Invalid JSON Found: {\n",
      "            \"题目描述\": \"「Let's play Hanafuda!」\\n「Hanafuda? ... But I don't know the rules...」\\n「Eh...」\\nNot being familiar with her country's traditional game, Shinobu is also quite helpless! So Alice and Shinobu had to return to the UniversalNO card game that they were both familiar with.\\nThe rules of \"UniversalNO\" are as follows: each card has a color and a point value. The two players take turns playing cards, with Alice going first. At the start, the card pile is empty, and the player can play any card (placing it on top of the pile). After that, the cards played must match at least one of the color or point value of the card currently on top of the pile. A player must play a card if they have one; if they have none, they lose.\\nAfter playing a few rounds, Alice and Shinobu felt that the original rules relied too much on luck, so they added a new twist: after Alice plays the first card, both players immediately swap their hands, and then continue the game according to the original rules starting with Alice. Of course, this time, the card Alice plays must match at least one of the color or point value of the card she initially played.\\nAfter the swap, both players know each other's hands (which are their hands at the start), so a winning strategy is established.\\nNow that Alice and Shinobu's initial hands are known, please determine for each situation of Alice's first card play who has a winning strategy.\",\n",
      "            \"输入格式\": \"The first line contains two integers m, c representing the number of point values and colors respectively.\\nThe second line contains an integer n_1 representing the number of cards Alice has initially.\\nThe next n_1 lines contain two integers x_{1,i}, y_{1,i} representing the point value and color of Alice's i-th card respectively.\\nThe next line contains an integer n_2 representing the number of cards Shinobu has initially.\\nThe next n_2 lines contain two integers x_{2,i}, y_{2,i} representing the point value and color of Shinobu's i-th card respectively.\",\n",
      "            \"输出格式\": \"Output n_1 lines, where the i-th line contains an integer r_i indicating the result of the game when Alice plays her i-th card first. r_i=0 indicates that Shinobu has a winning strategy, and r_i=1 indicates that Alice has a winning strategy.\",\n",
      "            \"样例 1\": \"Using (x,y) to represent a card with point value x and color y. If the first card played is (2,3), then after the swap, Alice can only play (2,2), and then Shinobu can win by playing (2,4). If the first card played is (2,4), then after the swap, Alice can only play (2,2), and then Shinobu can win by playing (2,3). If the first card played is (1,2), then after the swap, Alice can win by playing (1,1).\",\n",
      "            \"样例 2\": \"If the first card played is (2,4), then after the swap, Alice has no cards to play and loses. If the first card played is (1,1), then after the swap, Alice can win by playing (1,1).\",\n",
      "            \"样例 3\": \"\",\n",
      "            \"数据范围与提示\": \"For all data, 1\\\\le n_1,n_2\\\\le 40000, 1\\\\le x_{1,i},x_{2,i}\\\\le m\\\\le 10^4, 1\\\\le y_{1,i},y_{2,i}\\\\le c\\\\le 10^4.\\nSubtask # Score n_1,n_2 range m,c range\\n1 9 n_1,n_2\\\\le 10 m=c=1\\n2 10 m,c\\\\le 10\\n3 11 n_1,n_2\\\\le 50 m,c\\\\le 2\\n4 12 n_1,n_2\\\\le 100 m,c\\\\le 100\\n5 13 n_1,n_2\\\\le 400\\n6 14 n_1,n_2\\\\le 1000\\n7 15 n_1,n_2\\\\le 4000 m,c\\\\le 10^3\\n8 16 n_1,n_2\\\\le 40000 m,c\\\\le 10^4\"\n",
      "        }\n",
      "Invalid JSON Found: {1,i}\n",
      "Invalid JSON Found: {1,i}\n",
      "Invalid JSON Found: {2,i}\n",
      "Invalid JSON Found: {2,i}\n",
      "'translation'\n",
      "cannot access local variable 'translation' where it is not associated with a value\n",
      "Failed to translate #536._「LibreOJ_Round_#6」花札.json\n"
     ]
    },
    {
     "name": "stderr",
     "output_type": "stream",
     "text": [
      " 84%|████████▍ | 205/244 [19:42<19:42, 30.32s/it]"
     ]
    },
    {
     "name": "stdout",
     "output_type": "stream",
     "text": [
      "Invalid JSON Found: {a_i\\\\}\n",
      "Invalid JSON Found: {N}\n",
      "Invalid JSON Found: {i+2}\n",
      "Invalid JSON Found: {i+1}\n",
      "Invalid JSON Found: {N}\n",
      "Invalid JSON Found: {\\\\mathbb{N}^+}\n",
      "Invalid JSON Found: {N}\n",
      "Invalid JSON Found: {s_i}\n",
      "Invalid JSON Found: {s_i}\n",
      "Invalid JSON Found: {i+1}\n",
      "Invalid JSON Found: {maxsi}\n",
      "Invalid JSON Found: {minsi}\n",
      "Invalid JSON Found: {s_i}\n",
      "Invalid JSON Found: {s_i}\n",
      "Invalid JSON Found: {s_i}\n",
      "Invalid JSON Found: {s_i}\n",
      "Invalid JSON Found: {s_i}\n",
      "Invalid JSON Found: {s_i}\n",
      "Invalid JSON Found: {s_i}\n",
      "Invalid JSON Found: {s_i}\n",
      "Invalid JSON Found: {s_i}\n",
      "Invalid JSON Found: {a_i\\\\}\n",
      "Invalid JSON Found: {N}\n",
      "Invalid JSON Found: {i+2}\n",
      "Invalid JSON Found: {i+1}\n",
      "Invalid JSON Found: {N}\n",
      "Invalid JSON Found: {\\\\mathbb{N}^+}\n",
      "Invalid JSON Found: {N}\n",
      "Invalid JSON Found: {s_i}\n",
      "Invalid JSON Found: {s_i}\n",
      "Invalid JSON Found: {i+1}\n",
      "Invalid JSON Found: {maxsi}\n",
      "Invalid JSON Found: {minsi}\n",
      "Invalid JSON Found: {s_i}\n",
      "Invalid JSON Found: {s_i}\n",
      "'translation'\n",
      "cannot access local variable 'translation' where it is not associated with a value\n",
      "Failed to translate #538._「LibreOJ_NOIP_Round_#1」数列递推.json\n"
     ]
    },
    {
     "name": "stderr",
     "output_type": "stream",
     "text": [
      " 84%|████████▍ | 206/244 [20:25<21:31, 33.99s/it]"
     ]
    },
    {
     "name": "stdout",
     "output_type": "stream",
     "text": [
      "Invalid JSON Found: {c_i,C\\\\}\n",
      "'translation'\n",
      "cannot access local variable 'translation' where it is not associated with a value\n",
      "Failed to translate #539._「LibreOJ_NOIP_Round_#1」旅游路线.json\n"
     ]
    },
    {
     "name": "stderr",
     "output_type": "stream",
     "text": [
      " 85%|████████▌ | 208/244 [21:16<18:06, 30.18s/it]"
     ]
    },
    {
     "name": "stdout",
     "output_type": "stream",
     "text": [
      "'translation'\n",
      "cannot access local variable 'translation' where it is not associated with a value\n",
      "Failed to translate #541._「LibreOJ_NOIP_Round_#1」七曜圣贤.json\n"
     ]
    },
    {
     "name": "stderr",
     "output_type": "stream",
     "text": [
      " 86%|████████▌ | 209/244 [21:38<16:11, 27.75s/it]"
     ]
    },
    {
     "name": "stdout",
     "output_type": "stream",
     "text": [
      "Invalid JSON Found: {a_1, a_2, \\\\cdots, a_n\\\\}\n",
      "Invalid JSON Found: {a_1, a_2, \\\\cdots, a_n\\\\}\n",
      "Invalid JSON Found: {9, 8, 5\\\\}\n",
      "Invalid JSON Found: {7\\\\}\n",
      "Invalid JSON Found: {9, 8, 7, 6, 5\\\\}\n",
      "Invalid JSON Found: {9, 8, 7, 6, 5\\\\}\n",
      "Invalid JSON Found: {7, 9, 8\\\\}\n",
      "Invalid JSON Found: {i,1}\n",
      "Invalid JSON Found: {i,2}\n",
      "Invalid JSON Found: {i,l_i}\n",
      "Invalid JSON Found: {i,j}\n",
      "Invalid JSON Found: {i,j+1}\n",
      "Invalid JSON Found: {p_{i,1}}\n",
      "Invalid JSON Found: {p_{i,l_i}}\n",
      "Invalid JSON Found: {2, 6\\\\}\n",
      "Invalid JSON Found: {4, 1, 3, 8\\\\}\n",
      "'translation'\n",
      "cannot access local variable 'translation' where it is not associated with a value\n",
      "Failed to translate #542._「LibreOJ_NOIP_Round_#1」序列划分.json\n"
     ]
    },
    {
     "name": "stderr",
     "output_type": "stream",
     "text": [
      " 87%|████████▋ | 212/244 [23:04<16:06, 30.21s/it]"
     ]
    },
    {
     "name": "stdout",
     "output_type": "stream",
     "text": [
      "Invalid JSON Found: {lowbit}\n",
      "Invalid JSON Found: {lowbit}\n",
      "Invalid JSON Found: {lowbit}\n",
      "Invalid JSON Found: {lowbit}\n",
      "Invalid JSON Found: {lowbit}\n",
      "Invalid JSON Found: {lowbit}\n",
      "Invalid JSON Found: {lowbit}\n",
      "Invalid JSON Found: {cases}\n",
      "Invalid JSON Found: {2^k:k\\\\in \\\\mathbb{N},2^k|x\\\\}\n",
      "Invalid JSON Found: {N}\n",
      "Invalid JSON Found: {cases}\n",
      "Invalid JSON Found: {lowbit}\n",
      "Invalid JSON Found: {a_i\\\\}\n",
      "Invalid JSON Found: {b_i\\\\}\n",
      "Invalid JSON Found: {lowbit}\n",
      "Invalid JSON Found: {6,18,14,1,13\\\\}\n",
      "Invalid JSON Found: {lowbit}\n",
      "Invalid JSON Found: {1,21,1,1,13\\\\}\n",
      "Invalid JSON Found: {lowbit}\n",
      "'translation'\n",
      "cannot access local variable 'translation' where it is not associated with a value\n",
      "Failed to translate #545._「LibreOJ_β_Round_#7」小埋与游乐场.json\n"
     ]
    },
    {
     "name": "stderr",
     "output_type": "stream",
     "text": [
      " 87%|████████▋ | 213/244 [23:30<15:01, 29.09s/it]"
     ]
    },
    {
     "name": "stdout",
     "output_type": "stream",
     "text": [
      "Invalid JSON Found: {x_t}\n",
      "Invalid JSON Found: {y_t}\n",
      "Invalid JSON Found: {x_t}\n",
      "Invalid JSON Found: {y_t}\n",
      "'translation'\n",
      "cannot access local variable 'translation' where it is not associated with a value\n",
      "Failed to translate #546._「LibreOJ_β_Round_#7」网格图.json\n"
     ]
    },
    {
     "name": "stderr",
     "output_type": "stream",
     "text": [
      " 88%|████████▊ | 215/244 [24:21<13:29, 27.92s/it]"
     ]
    },
    {
     "name": "stdout",
     "output_type": "stream",
     "text": [
      "Invalid JSON Found: {s_i}\n",
      "Invalid JSON Found: {i,j}\n",
      "Invalid JSON Found: {gather}\n",
      "Invalid JSON Found: {i\\\\circ i\\\\circ \\\\cdots \\\\circ i}\n",
      "Invalid JSON Found: { times}\n",
      "Invalid JSON Found: {gather}\n",
      "Invalid JSON Found: {s_i}\n",
      "Invalid JSON Found: {i=0}\n",
      "Invalid JSON Found: {s_i}\n",
      "Invalid JSON Found: {P_i}\n",
      "Invalid JSON Found: {i=0}\n",
      "Invalid JSON Found: {m^n-1}\n",
      "Invalid JSON Found: {P_i}\n",
      "Invalid JSON Found: {X}\n",
      "Invalid JSON Found: {r_i}\n",
      "Invalid JSON Found: {k+1}\n",
      "Invalid JSON Found: {i,j}\n",
      "Invalid JSON Found: {k+1}\n",
      "Invalid JSON Found: {bmatrix}\n",
      "Invalid JSON Found: {bmatrix}\n",
      "Invalid JSON Found: {0,0\\\\}\n",
      "Invalid JSON Found: {1,0\\\\}\n",
      "Invalid JSON Found: {0,1\\\\}\n",
      "Invalid JSON Found: {1,1\\\\}\n",
      "Invalid JSON Found: {0,0\\\\}\n",
      "Invalid JSON Found: {0,0\\\\}\n",
      "Invalid JSON Found: {a_i\\\\}\n",
      "Invalid JSON Found: {0,0\\\\}\n",
      "Invalid JSON Found: {s_i\\\\}\n",
      "Invalid JSON Found: {0,0\\\\}\n",
      "Invalid JSON Found: {b_i\\\\}\n",
      "Invalid JSON Found: {bmatrix}\n",
      "Invalid JSON Found: {bmatrix}\n",
      "Invalid JSON Found: {a_i,s_i}\n",
      "Invalid JSON Found: {0,0}\n",
      "Invalid JSON Found: {0,0}\n",
      "Invalid JSON Found: {1,0\\\\}\n",
      "Invalid JSON Found: {1,0\\\\}\n",
      "'translation'\n",
      "cannot access local variable 'translation' where it is not associated with a value\n",
      "Failed to translate #548._「LibreOJ_β_Round_#7」某少女附中的体育课.json\n"
     ]
    }
   ],
   "source": [
    "from tqdm import tqdm\n",
    "base_path = \"loj/\"\n",
    "while True:\n",
    "    cnt = 0\n",
    "    all_json_files = [f for f in os.listdir(base_path) if f.endswith('.json')]\n",
    "    all_json_files = sorted(all_json_files)\n",
    "    for filename in tqdm(all_json_files):\n",
    "        if \"_en.json\" in filename:\n",
    "            continue\n",
    "        new_file_name = filename.split(\".\")[0] + \"_en.json\"\n",
    "        if new_file_name in all_json_files:\n",
    "            continue\n",
    "        file_str = open(base_path + filename, \"r\").read()\n",
    "        new_file = get_translation(file_str) # str\n",
    "        if new_file is None:\n",
    "            print(f\"Failed to translate {filename}\")\n",
    "            continue\n",
    "        # change new file to json\n",
    "        new_file_name = filename.split(\".\")[0] + \"_en.json\"\n",
    "        json.dump(new_file, open(base_path + new_file_name, \"w\"), indent=4, ensure_ascii=False)\n",
    "        cnt += 1\n",
    "        # print(f\"Translated {filename} to {new_file_name}\")\n",
    "    time.sleep(60)\n",
    "    if cnt == 0:\n",
    "        break"
   ]
  }
 ],
 "metadata": {
  "kernelspec": {
   "display_name": "base",
   "language": "python",
   "name": "python3"
  },
  "language_info": {
   "codemirror_mode": {
    "name": "ipython",
    "version": 3
   },
   "file_extension": ".py",
   "mimetype": "text/x-python",
   "name": "python",
   "nbconvert_exporter": "python",
   "pygments_lexer": "ipython3",
   "version": "3.12.7"
  }
 },
 "nbformat": 4,
 "nbformat_minor": 2
}
